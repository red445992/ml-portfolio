{
 "cells": [
  {
   "cell_type": "markdown",
   "id": "3a80b6c4-efa3-4ea6-8d83-6bef510b0a9f",
   "metadata": {},
   "source": [
    "# Load dependencies"
   ]
  },
  {
   "cell_type": "code",
   "execution_count": 2,
   "id": "156e8b8c-27f9-42c1-8080-5471df4117c5",
   "metadata": {},
   "outputs": [
    {
     "name": "stdout",
     "output_type": "stream",
     "text": [
      "Requirement already satisfied: plotly in c:\\users\\asus\\onedrive\\desktop\\pto\\ml_learn\\myenvi\\lib\\site-packages (6.1.1)\n",
      "Requirement already satisfied: narwhals>=1.15.1 in c:\\users\\asus\\onedrive\\desktop\\pto\\ml_learn\\myenvi\\lib\\site-packages (from plotly) (1.40.0)\n",
      "Requirement already satisfied: packaging in c:\\users\\asus\\onedrive\\desktop\\pto\\ml_learn\\myenvi\\lib\\site-packages (from plotly) (25.0)\n"
     ]
    },
    {
     "name": "stderr",
     "output_type": "stream",
     "text": [
      "\n",
      "[notice] A new release of pip is available: 24.2 -> 25.1.1\n",
      "[notice] To update, run: python.exe -m pip install --upgrade pip\n"
     ]
    }
   ],
   "source": [
    "!pip install plotly"
   ]
  },
  {
   "cell_type": "code",
   "execution_count": 3,
   "id": "98a97ba3-7a62-4e34-81c4-c33f8f8dc4c4",
   "metadata": {},
   "outputs": [],
   "source": [
    "#general\n",
    "import io\n",
    "\n",
    "#data\n",
    "import numpy as np\n",
    "import pandas as pd\n",
    "\n",
    "#machinelearning\n",
    "import keras\n",
    "\n",
    "#visualization\n",
    "import seaborn as sns\n",
    "import plotly.express as px\n",
    "from plotly.subplots import make_subplots\n",
    "import plotly.graph_objects as go"
   ]
  },
  {
   "cell_type": "code",
   "execution_count": 4,
   "id": "8bd78ce7-0572-48c1-b35f-b310e2b8864f",
   "metadata": {},
   "outputs": [],
   "source": [
    "chicago_taxi_dataset = pd.read_csv(\"https://download.mlcc.google.com/mledu-datasets/chicago_taxi_train.csv\")"
   ]
  },
  {
   "cell_type": "code",
   "execution_count": 5,
   "id": "48b080de-cb9b-4c3f-b70c-3a9d1cf48098",
   "metadata": {},
   "outputs": [
    {
     "data": {
      "text/html": [
       "<div>\n",
       "<style scoped>\n",
       "    .dataframe tbody tr th:only-of-type {\n",
       "        vertical-align: middle;\n",
       "    }\n",
       "\n",
       "    .dataframe tbody tr th {\n",
       "        vertical-align: top;\n",
       "    }\n",
       "\n",
       "    .dataframe thead th {\n",
       "        text-align: right;\n",
       "    }\n",
       "</style>\n",
       "<table border=\"1\" class=\"dataframe\">\n",
       "  <thead>\n",
       "    <tr style=\"text-align: right;\">\n",
       "      <th></th>\n",
       "      <th>TRIP_START_TIMESTAMP</th>\n",
       "      <th>TRIP_END_TIMESTAMP</th>\n",
       "      <th>TRIP_START_HOUR</th>\n",
       "      <th>TRIP_SECONDS</th>\n",
       "      <th>TRIP_MILES</th>\n",
       "      <th>TRIP_SPEED</th>\n",
       "      <th>PICKUP_CENSUS_TRACT</th>\n",
       "      <th>DROPOFF_CENSUS_TRACT</th>\n",
       "      <th>PICKUP_COMMUNITY_AREA</th>\n",
       "      <th>DROPOFF_COMMUNITY_AREA</th>\n",
       "      <th>FARE</th>\n",
       "      <th>TIPS</th>\n",
       "      <th>TIP_RATE</th>\n",
       "      <th>TOLLS</th>\n",
       "      <th>EXTRAS</th>\n",
       "      <th>TRIP_TOTAL</th>\n",
       "      <th>PAYMENT_TYPE</th>\n",
       "      <th>COMPANY</th>\n",
       "    </tr>\n",
       "  </thead>\n",
       "  <tbody>\n",
       "    <tr>\n",
       "      <th>0</th>\n",
       "      <td>05/17/2022 7:15:00 AM</td>\n",
       "      <td>05/17/2022 7:45:00 AM</td>\n",
       "      <td>7.25</td>\n",
       "      <td>2341</td>\n",
       "      <td>2.57</td>\n",
       "      <td>4.0</td>\n",
       "      <td>NaN</td>\n",
       "      <td>NaN</td>\n",
       "      <td>NaN</td>\n",
       "      <td>17.0</td>\n",
       "      <td>31.99</td>\n",
       "      <td>2.00</td>\n",
       "      <td>6.3</td>\n",
       "      <td>0.0</td>\n",
       "      <td>0.0</td>\n",
       "      <td>33.99</td>\n",
       "      <td>Mobile</td>\n",
       "      <td>Flash Cab</td>\n",
       "    </tr>\n",
       "    <tr>\n",
       "      <th>1</th>\n",
       "      <td>05/17/2022 5:15:00 PM</td>\n",
       "      <td>05/17/2022 5:30:00 PM</td>\n",
       "      <td>17.25</td>\n",
       "      <td>1074</td>\n",
       "      <td>1.18</td>\n",
       "      <td>4.0</td>\n",
       "      <td>NaN</td>\n",
       "      <td>1.703108e+10</td>\n",
       "      <td>NaN</td>\n",
       "      <td>8.0</td>\n",
       "      <td>9.75</td>\n",
       "      <td>3.00</td>\n",
       "      <td>27.9</td>\n",
       "      <td>0.0</td>\n",
       "      <td>1.0</td>\n",
       "      <td>14.25</td>\n",
       "      <td>Credit Card</td>\n",
       "      <td>Flash Cab</td>\n",
       "    </tr>\n",
       "    <tr>\n",
       "      <th>2</th>\n",
       "      <td>05/17/2022 5:15:00 PM</td>\n",
       "      <td>05/17/2022 5:30:00 PM</td>\n",
       "      <td>17.25</td>\n",
       "      <td>1173</td>\n",
       "      <td>1.29</td>\n",
       "      <td>4.0</td>\n",
       "      <td>1.703132e+10</td>\n",
       "      <td>1.703108e+10</td>\n",
       "      <td>32.0</td>\n",
       "      <td>8.0</td>\n",
       "      <td>10.25</td>\n",
       "      <td>0.00</td>\n",
       "      <td>0.0</td>\n",
       "      <td>0.0</td>\n",
       "      <td>0.0</td>\n",
       "      <td>10.25</td>\n",
       "      <td>Cash</td>\n",
       "      <td>Sun Taxi</td>\n",
       "    </tr>\n",
       "    <tr>\n",
       "      <th>3</th>\n",
       "      <td>05/17/2022 6:00:00 PM</td>\n",
       "      <td>05/17/2022 7:00:00 PM</td>\n",
       "      <td>18.00</td>\n",
       "      <td>3360</td>\n",
       "      <td>3.70</td>\n",
       "      <td>4.0</td>\n",
       "      <td>1.703132e+10</td>\n",
       "      <td>1.703124e+10</td>\n",
       "      <td>32.0</td>\n",
       "      <td>24.0</td>\n",
       "      <td>23.75</td>\n",
       "      <td>0.00</td>\n",
       "      <td>0.0</td>\n",
       "      <td>0.0</td>\n",
       "      <td>1.0</td>\n",
       "      <td>24.75</td>\n",
       "      <td>Cash</td>\n",
       "      <td>Choice Taxi Association</td>\n",
       "    </tr>\n",
       "    <tr>\n",
       "      <th>4</th>\n",
       "      <td>05/17/2022 5:00:00 PM</td>\n",
       "      <td>05/17/2022 5:30:00 PM</td>\n",
       "      <td>17.00</td>\n",
       "      <td>1044</td>\n",
       "      <td>1.15</td>\n",
       "      <td>4.0</td>\n",
       "      <td>1.703132e+10</td>\n",
       "      <td>1.703108e+10</td>\n",
       "      <td>32.0</td>\n",
       "      <td>8.0</td>\n",
       "      <td>10.00</td>\n",
       "      <td>0.00</td>\n",
       "      <td>0.0</td>\n",
       "      <td>0.0</td>\n",
       "      <td>0.0</td>\n",
       "      <td>10.00</td>\n",
       "      <td>Cash</td>\n",
       "      <td>Flash Cab</td>\n",
       "    </tr>\n",
       "    <tr>\n",
       "      <th>5</th>\n",
       "      <td>05/17/2022 5:30:00 PM</td>\n",
       "      <td>05/17/2022 6:00:00 PM</td>\n",
       "      <td>17.50</td>\n",
       "      <td>1251</td>\n",
       "      <td>1.38</td>\n",
       "      <td>4.0</td>\n",
       "      <td>1.703108e+10</td>\n",
       "      <td>1.703128e+10</td>\n",
       "      <td>8.0</td>\n",
       "      <td>28.0</td>\n",
       "      <td>11.00</td>\n",
       "      <td>3.00</td>\n",
       "      <td>27.3</td>\n",
       "      <td>0.0</td>\n",
       "      <td>0.0</td>\n",
       "      <td>14.50</td>\n",
       "      <td>Credit Card</td>\n",
       "      <td>Flash Cab</td>\n",
       "    </tr>\n",
       "    <tr>\n",
       "      <th>6</th>\n",
       "      <td>05/17/2022 5:00:00 PM</td>\n",
       "      <td>05/17/2022 5:30:00 PM</td>\n",
       "      <td>17.00</td>\n",
       "      <td>1813</td>\n",
       "      <td>2.00</td>\n",
       "      <td>4.0</td>\n",
       "      <td>1.703108e+10</td>\n",
       "      <td>1.703128e+10</td>\n",
       "      <td>8.0</td>\n",
       "      <td>28.0</td>\n",
       "      <td>14.50</td>\n",
       "      <td>0.00</td>\n",
       "      <td>0.0</td>\n",
       "      <td>0.0</td>\n",
       "      <td>0.0</td>\n",
       "      <td>14.50</td>\n",
       "      <td>Cash</td>\n",
       "      <td>Sun Taxi</td>\n",
       "    </tr>\n",
       "    <tr>\n",
       "      <th>7</th>\n",
       "      <td>05/17/2022 5:30:00 PM</td>\n",
       "      <td>05/17/2022 6:00:00 PM</td>\n",
       "      <td>17.50</td>\n",
       "      <td>1857</td>\n",
       "      <td>2.05</td>\n",
       "      <td>4.0</td>\n",
       "      <td>1.703108e+10</td>\n",
       "      <td>1.703128e+10</td>\n",
       "      <td>8.0</td>\n",
       "      <td>28.0</td>\n",
       "      <td>14.75</td>\n",
       "      <td>4.19</td>\n",
       "      <td>25.8</td>\n",
       "      <td>0.0</td>\n",
       "      <td>1.5</td>\n",
       "      <td>20.94</td>\n",
       "      <td>Credit Card</td>\n",
       "      <td>Sun Taxi</td>\n",
       "    </tr>\n",
       "    <tr>\n",
       "      <th>8</th>\n",
       "      <td>05/17/2022 7:00:00 PM</td>\n",
       "      <td>05/17/2022 7:00:00 PM</td>\n",
       "      <td>19.00</td>\n",
       "      <td>787</td>\n",
       "      <td>0.87</td>\n",
       "      <td>4.0</td>\n",
       "      <td>1.703108e+10</td>\n",
       "      <td>1.703108e+10</td>\n",
       "      <td>8.0</td>\n",
       "      <td>8.0</td>\n",
       "      <td>8.00</td>\n",
       "      <td>0.00</td>\n",
       "      <td>0.0</td>\n",
       "      <td>0.0</td>\n",
       "      <td>1.5</td>\n",
       "      <td>9.50</td>\n",
       "      <td>Cash</td>\n",
       "      <td>City Service</td>\n",
       "    </tr>\n",
       "    <tr>\n",
       "      <th>9</th>\n",
       "      <td>05/16/2022 6:30:00 PM</td>\n",
       "      <td>05/16/2022 6:45:00 PM</td>\n",
       "      <td>18.50</td>\n",
       "      <td>1399</td>\n",
       "      <td>1.55</td>\n",
       "      <td>4.0</td>\n",
       "      <td>NaN</td>\n",
       "      <td>NaN</td>\n",
       "      <td>32.0</td>\n",
       "      <td>6.0</td>\n",
       "      <td>17.88</td>\n",
       "      <td>4.11</td>\n",
       "      <td>23.0</td>\n",
       "      <td>0.0</td>\n",
       "      <td>0.0</td>\n",
       "      <td>21.99</td>\n",
       "      <td>Mobile</td>\n",
       "      <td>Flash Cab</td>\n",
       "    </tr>\n",
       "  </tbody>\n",
       "</table>\n",
       "</div>"
      ],
      "text/plain": [
       "    TRIP_START_TIMESTAMP     TRIP_END_TIMESTAMP  TRIP_START_HOUR  \\\n",
       "0  05/17/2022 7:15:00 AM  05/17/2022 7:45:00 AM             7.25   \n",
       "1  05/17/2022 5:15:00 PM  05/17/2022 5:30:00 PM            17.25   \n",
       "2  05/17/2022 5:15:00 PM  05/17/2022 5:30:00 PM            17.25   \n",
       "3  05/17/2022 6:00:00 PM  05/17/2022 7:00:00 PM            18.00   \n",
       "4  05/17/2022 5:00:00 PM  05/17/2022 5:30:00 PM            17.00   \n",
       "5  05/17/2022 5:30:00 PM  05/17/2022 6:00:00 PM            17.50   \n",
       "6  05/17/2022 5:00:00 PM  05/17/2022 5:30:00 PM            17.00   \n",
       "7  05/17/2022 5:30:00 PM  05/17/2022 6:00:00 PM            17.50   \n",
       "8  05/17/2022 7:00:00 PM  05/17/2022 7:00:00 PM            19.00   \n",
       "9  05/16/2022 6:30:00 PM  05/16/2022 6:45:00 PM            18.50   \n",
       "\n",
       "   TRIP_SECONDS  TRIP_MILES  TRIP_SPEED  PICKUP_CENSUS_TRACT  \\\n",
       "0          2341        2.57         4.0                  NaN   \n",
       "1          1074        1.18         4.0                  NaN   \n",
       "2          1173        1.29         4.0         1.703132e+10   \n",
       "3          3360        3.70         4.0         1.703132e+10   \n",
       "4          1044        1.15         4.0         1.703132e+10   \n",
       "5          1251        1.38         4.0         1.703108e+10   \n",
       "6          1813        2.00         4.0         1.703108e+10   \n",
       "7          1857        2.05         4.0         1.703108e+10   \n",
       "8           787        0.87         4.0         1.703108e+10   \n",
       "9          1399        1.55         4.0                  NaN   \n",
       "\n",
       "   DROPOFF_CENSUS_TRACT  PICKUP_COMMUNITY_AREA  DROPOFF_COMMUNITY_AREA   FARE  \\\n",
       "0                   NaN                    NaN                    17.0  31.99   \n",
       "1          1.703108e+10                    NaN                     8.0   9.75   \n",
       "2          1.703108e+10                   32.0                     8.0  10.25   \n",
       "3          1.703124e+10                   32.0                    24.0  23.75   \n",
       "4          1.703108e+10                   32.0                     8.0  10.00   \n",
       "5          1.703128e+10                    8.0                    28.0  11.00   \n",
       "6          1.703128e+10                    8.0                    28.0  14.50   \n",
       "7          1.703128e+10                    8.0                    28.0  14.75   \n",
       "8          1.703108e+10                    8.0                     8.0   8.00   \n",
       "9                   NaN                   32.0                     6.0  17.88   \n",
       "\n",
       "   TIPS  TIP_RATE  TOLLS  EXTRAS  TRIP_TOTAL PAYMENT_TYPE  \\\n",
       "0  2.00       6.3    0.0     0.0       33.99       Mobile   \n",
       "1  3.00      27.9    0.0     1.0       14.25  Credit Card   \n",
       "2  0.00       0.0    0.0     0.0       10.25         Cash   \n",
       "3  0.00       0.0    0.0     1.0       24.75         Cash   \n",
       "4  0.00       0.0    0.0     0.0       10.00         Cash   \n",
       "5  3.00      27.3    0.0     0.0       14.50  Credit Card   \n",
       "6  0.00       0.0    0.0     0.0       14.50         Cash   \n",
       "7  4.19      25.8    0.0     1.5       20.94  Credit Card   \n",
       "8  0.00       0.0    0.0     1.5        9.50         Cash   \n",
       "9  4.11      23.0    0.0     0.0       21.99       Mobile   \n",
       "\n",
       "                   COMPANY  \n",
       "0                Flash Cab  \n",
       "1                Flash Cab  \n",
       "2                 Sun Taxi  \n",
       "3  Choice Taxi Association  \n",
       "4                Flash Cab  \n",
       "5                Flash Cab  \n",
       "6                 Sun Taxi  \n",
       "7                 Sun Taxi  \n",
       "8             City Service  \n",
       "9                Flash Cab  "
      ]
     },
     "execution_count": 5,
     "metadata": {},
     "output_type": "execute_result"
    }
   ],
   "source": [
    "chicago_taxi_dataset.head(10)"
   ]
  },
  {
   "cell_type": "code",
   "execution_count": 6,
   "id": "1d2b380d-6c38-4292-916b-ab163b4e6630",
   "metadata": {},
   "outputs": [],
   "source": [
    "training_dataSet = chicago_taxi_dataset[['TRIP_MILES','TRIP_SECONDS','FARE','TIP_RATE','PAYMENT_TYPE','COMPANY']]"
   ]
  },
  {
   "cell_type": "code",
   "execution_count": 7,
   "id": "ddab5df7-98c1-4ba9-8a53-fb578e933347",
   "metadata": {},
   "outputs": [
    {
     "data": {
      "text/html": [
       "<div>\n",
       "<style scoped>\n",
       "    .dataframe tbody tr th:only-of-type {\n",
       "        vertical-align: middle;\n",
       "    }\n",
       "\n",
       "    .dataframe tbody tr th {\n",
       "        vertical-align: top;\n",
       "    }\n",
       "\n",
       "    .dataframe thead th {\n",
       "        text-align: right;\n",
       "    }\n",
       "</style>\n",
       "<table border=\"1\" class=\"dataframe\">\n",
       "  <thead>\n",
       "    <tr style=\"text-align: right;\">\n",
       "      <th></th>\n",
       "      <th>TRIP_MILES</th>\n",
       "      <th>TRIP_SECONDS</th>\n",
       "      <th>FARE</th>\n",
       "      <th>TIP_RATE</th>\n",
       "      <th>PAYMENT_TYPE</th>\n",
       "      <th>COMPANY</th>\n",
       "    </tr>\n",
       "  </thead>\n",
       "  <tbody>\n",
       "    <tr>\n",
       "      <th>0</th>\n",
       "      <td>2.57</td>\n",
       "      <td>2341</td>\n",
       "      <td>31.99</td>\n",
       "      <td>6.3</td>\n",
       "      <td>Mobile</td>\n",
       "      <td>Flash Cab</td>\n",
       "    </tr>\n",
       "    <tr>\n",
       "      <th>1</th>\n",
       "      <td>1.18</td>\n",
       "      <td>1074</td>\n",
       "      <td>9.75</td>\n",
       "      <td>27.9</td>\n",
       "      <td>Credit Card</td>\n",
       "      <td>Flash Cab</td>\n",
       "    </tr>\n",
       "    <tr>\n",
       "      <th>2</th>\n",
       "      <td>1.29</td>\n",
       "      <td>1173</td>\n",
       "      <td>10.25</td>\n",
       "      <td>0.0</td>\n",
       "      <td>Cash</td>\n",
       "      <td>Sun Taxi</td>\n",
       "    </tr>\n",
       "    <tr>\n",
       "      <th>3</th>\n",
       "      <td>3.70</td>\n",
       "      <td>3360</td>\n",
       "      <td>23.75</td>\n",
       "      <td>0.0</td>\n",
       "      <td>Cash</td>\n",
       "      <td>Choice Taxi Association</td>\n",
       "    </tr>\n",
       "    <tr>\n",
       "      <th>4</th>\n",
       "      <td>1.15</td>\n",
       "      <td>1044</td>\n",
       "      <td>10.00</td>\n",
       "      <td>0.0</td>\n",
       "      <td>Cash</td>\n",
       "      <td>Flash Cab</td>\n",
       "    </tr>\n",
       "  </tbody>\n",
       "</table>\n",
       "</div>"
      ],
      "text/plain": [
       "   TRIP_MILES  TRIP_SECONDS   FARE  TIP_RATE PAYMENT_TYPE  \\\n",
       "0        2.57          2341  31.99       6.3       Mobile   \n",
       "1        1.18          1074   9.75      27.9  Credit Card   \n",
       "2        1.29          1173  10.25       0.0         Cash   \n",
       "3        3.70          3360  23.75       0.0         Cash   \n",
       "4        1.15          1044  10.00       0.0         Cash   \n",
       "\n",
       "                   COMPANY  \n",
       "0                Flash Cab  \n",
       "1                Flash Cab  \n",
       "2                 Sun Taxi  \n",
       "3  Choice Taxi Association  \n",
       "4                Flash Cab  "
      ]
     },
     "execution_count": 7,
     "metadata": {},
     "output_type": "execute_result"
    }
   ],
   "source": [
    "training_dataSet.head()"
   ]
  },
  {
   "cell_type": "code",
   "execution_count": 8,
   "id": "2db8dc6d-c4f6-47ff-99fc-1d53bc513a1b",
   "metadata": {},
   "outputs": [
    {
     "name": "stdout",
     "output_type": "stream",
     "text": [
      "<class 'pandas.core.frame.DataFrame'>\n",
      "RangeIndex: 31694 entries, 0 to 31693\n",
      "Data columns (total 6 columns):\n",
      " #   Column        Non-Null Count  Dtype  \n",
      "---  ------        --------------  -----  \n",
      " 0   TRIP_MILES    31694 non-null  float64\n",
      " 1   TRIP_SECONDS  31694 non-null  int64  \n",
      " 2   FARE          31694 non-null  float64\n",
      " 3   TIP_RATE      31694 non-null  float64\n",
      " 4   PAYMENT_TYPE  31694 non-null  object \n",
      " 5   COMPANY       31694 non-null  object \n",
      "dtypes: float64(3), int64(1), object(2)\n",
      "memory usage: 1.5+ MB\n"
     ]
    }
   ],
   "source": [
    "training_dataSet.info()"
   ]
  },
  {
   "cell_type": "code",
   "execution_count": 11,
   "id": "8d34e242-f3eb-4854-8bb8-5e2a3a5dcb2b",
   "metadata": {},
   "outputs": [
    {
     "data": {
      "text/html": [
       "<div>\n",
       "<style scoped>\n",
       "    .dataframe tbody tr th:only-of-type {\n",
       "        vertical-align: middle;\n",
       "    }\n",
       "\n",
       "    .dataframe tbody tr th {\n",
       "        vertical-align: top;\n",
       "    }\n",
       "\n",
       "    .dataframe thead th {\n",
       "        text-align: right;\n",
       "    }\n",
       "</style>\n",
       "<table border=\"1\" class=\"dataframe\">\n",
       "  <thead>\n",
       "    <tr style=\"text-align: right;\">\n",
       "      <th></th>\n",
       "      <th>TRIP_MILES</th>\n",
       "      <th>TRIP_SECONDS</th>\n",
       "      <th>FARE</th>\n",
       "      <th>TIP_RATE</th>\n",
       "      <th>PAYMENT_TYPE</th>\n",
       "      <th>COMPANY</th>\n",
       "    </tr>\n",
       "  </thead>\n",
       "  <tbody>\n",
       "    <tr>\n",
       "      <th>count</th>\n",
       "      <td>31694.000000</td>\n",
       "      <td>31694.000000</td>\n",
       "      <td>31694.000000</td>\n",
       "      <td>31694.000000</td>\n",
       "      <td>31694</td>\n",
       "      <td>31694</td>\n",
       "    </tr>\n",
       "    <tr>\n",
       "      <th>unique</th>\n",
       "      <td>NaN</td>\n",
       "      <td>NaN</td>\n",
       "      <td>NaN</td>\n",
       "      <td>NaN</td>\n",
       "      <td>7</td>\n",
       "      <td>31</td>\n",
       "    </tr>\n",
       "    <tr>\n",
       "      <th>top</th>\n",
       "      <td>NaN</td>\n",
       "      <td>NaN</td>\n",
       "      <td>NaN</td>\n",
       "      <td>NaN</td>\n",
       "      <td>Credit Card</td>\n",
       "      <td>Flash Cab</td>\n",
       "    </tr>\n",
       "    <tr>\n",
       "      <th>freq</th>\n",
       "      <td>NaN</td>\n",
       "      <td>NaN</td>\n",
       "      <td>NaN</td>\n",
       "      <td>NaN</td>\n",
       "      <td>14142</td>\n",
       "      <td>7887</td>\n",
       "    </tr>\n",
       "    <tr>\n",
       "      <th>mean</th>\n",
       "      <td>8.289463</td>\n",
       "      <td>1319.796397</td>\n",
       "      <td>23.905210</td>\n",
       "      <td>12.965785</td>\n",
       "      <td>NaN</td>\n",
       "      <td>NaN</td>\n",
       "    </tr>\n",
       "    <tr>\n",
       "      <th>std</th>\n",
       "      <td>7.265672</td>\n",
       "      <td>928.932873</td>\n",
       "      <td>16.970022</td>\n",
       "      <td>15.517765</td>\n",
       "      <td>NaN</td>\n",
       "      <td>NaN</td>\n",
       "    </tr>\n",
       "    <tr>\n",
       "      <th>min</th>\n",
       "      <td>0.500000</td>\n",
       "      <td>60.000000</td>\n",
       "      <td>3.250000</td>\n",
       "      <td>0.000000</td>\n",
       "      <td>NaN</td>\n",
       "      <td>NaN</td>\n",
       "    </tr>\n",
       "    <tr>\n",
       "      <th>25%</th>\n",
       "      <td>1.720000</td>\n",
       "      <td>548.000000</td>\n",
       "      <td>9.000000</td>\n",
       "      <td>0.000000</td>\n",
       "      <td>NaN</td>\n",
       "      <td>NaN</td>\n",
       "    </tr>\n",
       "    <tr>\n",
       "      <th>50%</th>\n",
       "      <td>5.920000</td>\n",
       "      <td>1081.000000</td>\n",
       "      <td>18.750000</td>\n",
       "      <td>12.200000</td>\n",
       "      <td>NaN</td>\n",
       "      <td>NaN</td>\n",
       "    </tr>\n",
       "    <tr>\n",
       "      <th>75%</th>\n",
       "      <td>14.500000</td>\n",
       "      <td>1888.000000</td>\n",
       "      <td>38.750000</td>\n",
       "      <td>20.800000</td>\n",
       "      <td>NaN</td>\n",
       "      <td>NaN</td>\n",
       "    </tr>\n",
       "    <tr>\n",
       "      <th>max</th>\n",
       "      <td>68.120000</td>\n",
       "      <td>7140.000000</td>\n",
       "      <td>159.250000</td>\n",
       "      <td>648.600000</td>\n",
       "      <td>NaN</td>\n",
       "      <td>NaN</td>\n",
       "    </tr>\n",
       "  </tbody>\n",
       "</table>\n",
       "</div>"
      ],
      "text/plain": [
       "          TRIP_MILES  TRIP_SECONDS          FARE      TIP_RATE PAYMENT_TYPE  \\\n",
       "count   31694.000000  31694.000000  31694.000000  31694.000000        31694   \n",
       "unique           NaN           NaN           NaN           NaN            7   \n",
       "top              NaN           NaN           NaN           NaN  Credit Card   \n",
       "freq             NaN           NaN           NaN           NaN        14142   \n",
       "mean        8.289463   1319.796397     23.905210     12.965785          NaN   \n",
       "std         7.265672    928.932873     16.970022     15.517765          NaN   \n",
       "min         0.500000     60.000000      3.250000      0.000000          NaN   \n",
       "25%         1.720000    548.000000      9.000000      0.000000          NaN   \n",
       "50%         5.920000   1081.000000     18.750000     12.200000          NaN   \n",
       "75%        14.500000   1888.000000     38.750000     20.800000          NaN   \n",
       "max        68.120000   7140.000000    159.250000    648.600000          NaN   \n",
       "\n",
       "          COMPANY  \n",
       "count       31694  \n",
       "unique         31  \n",
       "top     Flash Cab  \n",
       "freq         7887  \n",
       "mean          NaN  \n",
       "std           NaN  \n",
       "min           NaN  \n",
       "25%           NaN  \n",
       "50%           NaN  \n",
       "75%           NaN  \n",
       "max           NaN  "
      ]
     },
     "execution_count": 11,
     "metadata": {},
     "output_type": "execute_result"
    }
   ],
   "source": [
    "training_dataSet.describe(include=\"all\")"
   ]
  },
  {
   "cell_type": "code",
   "execution_count": 13,
   "id": "bd335258-f057-45a6-af24-23c97996183b",
   "metadata": {},
   "outputs": [
    {
     "name": "stdout",
     "output_type": "stream",
     "text": [
      "the maximum fare? \t\t\t Answer: $159.25\n"
     ]
    }
   ],
   "source": [
    "max_fare = training_dataSet['FARE'].max()\n",
    "print(\"the maximum fare? \\t\\t\\t Answer: ${fare:.2f}\".format(fare=max_fare))"
   ]
  },
  {
   "cell_type": "code",
   "execution_count": 17,
   "id": "b34ffe15-758a-4895-a8ec-a51797e679af",
   "metadata": {},
   "outputs": [
    {
     "name": "stdout",
     "output_type": "stream",
     "text": [
      "the mean distance?\t\t\t Answer:8.29\n"
     ]
    }
   ],
   "source": [
    "mean_distance = training_dataSet['TRIP_MILES'].mean()\n",
    "print(\"the mean distance?\\t\\t\\t Answer:{meandis:.2f}\".format(meandis=mean_distance))"
   ]
  },
  {
   "cell_type": "code",
   "execution_count": 18,
   "id": "f37fd23a-5f0b-4489-bbc5-978c03921f5f",
   "metadata": {},
   "outputs": [
    {
     "name": "stdout",
     "output_type": "stream",
     "text": [
      "the number of unique comapnies?\t\t\t Answer:31.00\n"
     ]
    }
   ],
   "source": [
    "num_unique_companies = training_dataSet['COMPANY'].nunique()\n",
    "print(\"the number of unique comapnies?\\t\\t\\t Answer:{number:.2f}\".format(number=num_unique_companies))"
   ]
  },
  {
   "cell_type": "code",
   "execution_count": 20,
   "id": "f29ee6df-4c09-402d-9544-f4341c4af22f",
   "metadata": {},
   "outputs": [
    {
     "name": "stdout",
     "output_type": "stream",
     "text": [
      "What is the most frequent payment type? \t\tAnswer: Credit Card\n"
     ]
    }
   ],
   "source": [
    "most_freq_payment_type = training_dataSet['PAYMENT_TYPE'].value_counts().idxmax()\n",
    "print(\"What is the most frequent payment type? \\t\\tAnswer: {type}\".format(type = most_freq_payment_type))"
   ]
  },
  {
   "cell_type": "code",
   "execution_count": 24,
   "id": "c80450de-3c5c-47a6-a277-858a33af1ee8",
   "metadata": {},
   "outputs": [
    {
     "name": "stdout",
     "output_type": "stream",
     "text": [
      "Are any features missing data? \t\t\t\tAnswer: No\n"
     ]
    }
   ],
   "source": [
    "missing_values = training_dataSet.isnull().sum().sum()\n",
    "print(\"Are any features missing data? \\t\\t\\t\\tAnswer:\", \"No\" if missing_values == 0 else \"Yes\")"
   ]
  },
  {
   "cell_type": "code",
   "execution_count": 25,
   "id": "507f8214-c60b-4f38-8b24-956f2e539e13",
   "metadata": {},
   "outputs": [
    {
     "data": {
      "text/html": [
       "<div>\n",
       "<style scoped>\n",
       "    .dataframe tbody tr th:only-of-type {\n",
       "        vertical-align: middle;\n",
       "    }\n",
       "\n",
       "    .dataframe tbody tr th {\n",
       "        vertical-align: top;\n",
       "    }\n",
       "\n",
       "    .dataframe thead th {\n",
       "        text-align: right;\n",
       "    }\n",
       "</style>\n",
       "<table border=\"1\" class=\"dataframe\">\n",
       "  <thead>\n",
       "    <tr style=\"text-align: right;\">\n",
       "      <th></th>\n",
       "      <th>TRIP_MILES</th>\n",
       "      <th>TRIP_SECONDS</th>\n",
       "      <th>FARE</th>\n",
       "      <th>TIP_RATE</th>\n",
       "    </tr>\n",
       "  </thead>\n",
       "  <tbody>\n",
       "    <tr>\n",
       "      <th>TRIP_MILES</th>\n",
       "      <td>1.000000</td>\n",
       "      <td>0.800855</td>\n",
       "      <td>0.975344</td>\n",
       "      <td>-0.049594</td>\n",
       "    </tr>\n",
       "    <tr>\n",
       "      <th>TRIP_SECONDS</th>\n",
       "      <td>0.800855</td>\n",
       "      <td>1.000000</td>\n",
       "      <td>0.830292</td>\n",
       "      <td>-0.084294</td>\n",
       "    </tr>\n",
       "    <tr>\n",
       "      <th>FARE</th>\n",
       "      <td>0.975344</td>\n",
       "      <td>0.830292</td>\n",
       "      <td>1.000000</td>\n",
       "      <td>-0.070979</td>\n",
       "    </tr>\n",
       "    <tr>\n",
       "      <th>TIP_RATE</th>\n",
       "      <td>-0.049594</td>\n",
       "      <td>-0.084294</td>\n",
       "      <td>-0.070979</td>\n",
       "      <td>1.000000</td>\n",
       "    </tr>\n",
       "  </tbody>\n",
       "</table>\n",
       "</div>"
      ],
      "text/plain": [
       "              TRIP_MILES  TRIP_SECONDS      FARE  TIP_RATE\n",
       "TRIP_MILES      1.000000      0.800855  0.975344 -0.049594\n",
       "TRIP_SECONDS    0.800855      1.000000  0.830292 -0.084294\n",
       "FARE            0.975344      0.830292  1.000000 -0.070979\n",
       "TIP_RATE       -0.049594     -0.084294 -0.070979  1.000000"
      ]
     },
     "execution_count": 25,
     "metadata": {},
     "output_type": "execute_result"
    }
   ],
   "source": [
    "training_dataSet.corr(numeric_only=True)"
   ]
  },
  {
   "cell_type": "code",
   "execution_count": 26,
   "id": "9325fff6-0433-4a0b-9772-542982d72fa0",
   "metadata": {},
   "outputs": [
    {
     "data": {
      "text/plain": [
       "<seaborn.axisgrid.PairGrid at 0x2e9d0a20650>"
      ]
     },
     "execution_count": 26,
     "metadata": {},
     "output_type": "execute_result"
    },
    {
     "data": {
      "image/png": "[encoded data removed]",
      "text/plain": [
       "<Figure size 750x750 with 12 Axes>"
      ]
     },
     "metadata": {},
     "output_type": "display_data"
    }
   ],
   "source": [
    "sns.pairplot(training_dataSet,x_vars=['TRIP_MILES','TRIP_SECONDS','FARE'],y_vars=['TRIP_MILES','TRIP_SECONDS','FARE'])"
   ]
  },
  {
   "cell_type": "code",
   "execution_count": 27,
   "id": "27bf185c-e905-4281-827b-a81f729cc2db",
   "metadata": {},
   "outputs": [
    {
     "name": "stdout",
     "output_type": "stream",
     "text": [
      "SUCCESS: defining plotting functions complete.\n"
     ]
    }
   ],
   "source": [
    "#@title Define plotting functions\n",
    "\n",
    "def make_plots(df, feature_names, label_name, model_output, sample_size=200):\n",
    "\n",
    "  random_sample = df.sample(n=sample_size).copy()\n",
    "  random_sample.reset_index()\n",
    "  weights, bias, epochs, rmse = model_output\n",
    "\n",
    "  is_2d_plot = len(feature_names) == 1\n",
    "  model_plot_type = \"scatter\" if is_2d_plot else \"surface\"\n",
    "  fig = make_subplots(rows=1, cols=2,\n",
    "                      subplot_titles=(\"Loss Curve\", \"Model Plot\"),\n",
    "                      specs=[[{\"type\": \"scatter\"}, {\"type\": model_plot_type}]])\n",
    "\n",
    "  plot_data(random_sample, feature_names, label_name, fig)\n",
    "  plot_model(random_sample, feature_names, weights, bias, fig)\n",
    "  plot_loss_curve(epochs, rmse, fig)\n",
    "\n",
    "  fig.show()\n",
    "  return\n",
    "\n",
    "def plot_loss_curve(epochs, rmse, fig):\n",
    "  curve = px.line(x=epochs, y=rmse)\n",
    "  curve.update_traces(line_color='#ff0000', line_width=3)\n",
    "\n",
    "  fig.append_trace(curve.data[0], row=1, col=1)\n",
    "  fig.update_xaxes(title_text=\"Epoch\", row=1, col=1)\n",
    "  fig.update_yaxes(title_text=\"Root Mean Squared Error\", row=1, col=1, range=[rmse.min()*0.8, rmse.max()])\n",
    "\n",
    "  return\n",
    "\n",
    "def plot_data(df, features, label, fig):\n",
    "  if len(features) == 1:\n",
    "    scatter = px.scatter(df, x=features[0], y=label)\n",
    "  else:\n",
    "    scatter = px.scatter_3d(df, x=features[0], y=features[1], z=label)\n",
    "\n",
    "  fig.append_trace(scatter.data[0], row=1, col=2)\n",
    "  if len(features) == 1:\n",
    "    fig.update_xaxes(title_text=features[0], row=1, col=2)\n",
    "    fig.update_yaxes(title_text=label, row=1, col=2)\n",
    "  else:\n",
    "    fig.update_layout(scene1=dict(xaxis_title=features[0], yaxis_title=features[1], zaxis_title=label))\n",
    "\n",
    "  return\n",
    "\n",
    "def plot_model(df, features, weights, bias, fig):\n",
    "  df['FARE_PREDICTED'] = bias[0]\n",
    "\n",
    "  for index, feature in enumerate(features):\n",
    "    df['FARE_PREDICTED'] = df['FARE_PREDICTED'] + weights[index][0] * df[feature]\n",
    "\n",
    "  if len(features) == 1:\n",
    "    model = px.line(df, x=features[0], y='FARE_PREDICTED')\n",
    "    model.update_traces(line_color='#ff0000', line_width=3)\n",
    "  else:\n",
    "    z_name, y_name = \"FARE_PREDICTED\", features[1]\n",
    "    z = [df[z_name].min(), (df[z_name].max() - df[z_name].min()) / 2, df[z_name].max()]\n",
    "    y = [df[y_name].min(), (df[y_name].max() - df[y_name].min()) / 2, df[y_name].max()]\n",
    "    x = []\n",
    "    for i in range(len(y)):\n",
    "      x.append((z[i] - weights[1][0] * y[i] - bias[0]) / weights[0][0])\n",
    "\n",
    "    plane=pd.DataFrame({'x':x, 'y':y, 'z':[z] * 3})\n",
    "\n",
    "    light_yellow = [[0, '#89CFF0'], [1, '#FFDB58']]\n",
    "    model = go.Figure(data=go.Surface(x=plane['x'], y=plane['y'], z=plane['z'],\n",
    "                                      colorscale=light_yellow))\n",
    "\n",
    "  fig.add_trace(model.data[0], row=1, col=2)\n",
    "\n",
    "  return\n",
    "\n",
    "def model_info(feature_names, label_name, model_output):\n",
    "  weights = model_output[0]\n",
    "  bias = model_output[1]\n",
    "\n",
    "  nl = \"\\n\"\n",
    "  header = \"-\" * 80\n",
    "  banner = header + nl + \"|\" + \"MODEL INFO\".center(78) + \"|\" + nl + header\n",
    "\n",
    "  info = \"\"\n",
    "  equation = label_name + \" = \"\n",
    "\n",
    "  for index, feature in enumerate(feature_names):\n",
    "    info = info + \"Weight for feature[{}]: {:.3f}\\n\".format(feature, weights[index][0])\n",
    "    equation = equation + \"{:.3f} * {} + \".format(weights[index][0], feature)\n",
    "\n",
    "  info = info + \"Bias: {:.3f}\\n\".format(bias[0])\n",
    "  equation = equation + \"{:.3f}\\n\".format(bias[0])\n",
    "\n",
    "  return banner + nl + info + nl + equation\n",
    "\n",
    "print(\"SUCCESS: defining plotting functions complete.\")"
   ]
  },
  {
   "cell_type": "code",
   "execution_count": 28,
   "id": "b9a6f724-a2c0-4b80-b0ee-f4e5b2b5f8ed",
   "metadata": {},
   "outputs": [
    {
     "name": "stdout",
     "output_type": "stream",
     "text": [
      "SUCCESS: defining linear regression functions complete.\n"
     ]
    }
   ],
   "source": [
    "#@title Code - Define ML functions\n",
    "\n",
    "def build_model(my_learning_rate, num_features):\n",
    "  \"\"\"Create and compile a simple linear regression model.\"\"\"\n",
    "  # Describe the topography of the model.\n",
    "  # The topography of a simple linear regression model\n",
    "  # is a single node in a single layer.\n",
    "  inputs = keras.Input(shape=(num_features,))\n",
    "  outputs = keras.layers.Dense(units=1)(inputs)\n",
    "  model = keras.Model(inputs=inputs, outputs=outputs)\n",
    "\n",
    "  # Compile the model topography into code that Keras can efficiently\n",
    "  # execute. Configure training to minimize the model's mean squared error.\n",
    "  model.compile(optimizer=keras.optimizers.RMSprop(learning_rate=my_learning_rate),\n",
    "                loss=\"mean_squared_error\",\n",
    "                metrics=[keras.metrics.RootMeanSquaredError()])\n",
    "\n",
    "  return model\n",
    "\n",
    "\n",
    "def train_model(model, features, label, epochs, batch_size):\n",
    "  \"\"\"Train the model by feeding it data.\"\"\"\n",
    "\n",
    "  # Feed the model the feature and the label.\n",
    "  # The model will train for the specified number of epochs.\n",
    "  history = model.fit(x=features,\n",
    "                      y=label,\n",
    "                      batch_size=batch_size,\n",
    "                      epochs=epochs)\n",
    "\n",
    "  # Gather the trained model's weight and bias.\n",
    "  trained_weight = model.get_weights()[0]\n",
    "  trained_bias = model.get_weights()[1]\n",
    "\n",
    "  # The list of epochs is stored separately from the rest of history.\n",
    "  epochs = history.epoch\n",
    "\n",
    "  # Isolate the error for each epoch.\n",
    "  hist = pd.DataFrame(history.history)\n",
    "\n",
    "  # To track the progression of training, we're going to take a snapshot\n",
    "  # of the model's root mean squared error at each epoch.\n",
    "  rmse = hist[\"root_mean_squared_error\"]\n",
    "\n",
    "  return trained_weight, trained_bias, epochs, rmse\n",
    "\n",
    "\n",
    "def run_experiment(df, feature_names, label_name, learning_rate, epochs, batch_size):\n",
    "\n",
    "  print('INFO: starting training experiment with features={} and label={}\\n'.format(feature_names, label_name))\n",
    "\n",
    "  num_features = len(feature_names)\n",
    "\n",
    "  features = df.loc[:, feature_names].values\n",
    "  label = df[label_name].values\n",
    "\n",
    "  model = build_model(learning_rate, num_features)\n",
    "  model_output = train_model(model, features, label, epochs, batch_size)\n",
    "\n",
    "  print('\\nSUCCESS: training experiment complete\\n')\n",
    "  print('{}'.format(model_info(feature_names, label_name, model_output)))\n",
    "  make_plots(df, feature_names, label_name, model_output)\n",
    "\n",
    "  return model\n",
    "\n",
    "print(\"SUCCESS: defining linear regression functions complete.\")"
   ]
  },
  {
   "cell_type": "code",
   "execution_count": 29,
   "id": "c83dc050-377d-4e1a-a7b7-8e3638db277a",
   "metadata": {},
   "outputs": [
    {
     "name": "stdout",
     "output_type": "stream",
     "text": [
      "INFO: starting training experiment with features=['TRIP_MILES'] and label=FARE\n",
      "\n",
      "Epoch 1/20\n",
      "\u001b[1m634/634\u001b[0m \u001b[32m━━━━━━━━━━━━━━━━━━━━\u001b[0m\u001b[37m\u001b[0m \u001b[1m1s\u001b[0m 802us/step - loss: 180.8011 - root_mean_squared_error: 13.4147\n",
      "Epoch 2/20\n",
      "\u001b[1m634/634\u001b[0m \u001b[32m━━━━━━━━━━━━━━━━━━━━\u001b[0m\u001b[37m\u001b[0m \u001b[1m1s\u001b[0m 730us/step - loss: 51.4541 - root_mean_squared_error: 7.1384\n",
      "Epoch 3/20\n",
      "\u001b[1m634/634\u001b[0m \u001b[32m━━━━━━━━━━━━━━━━━━━━\u001b[0m\u001b[37m\u001b[0m \u001b[1m0s\u001b[0m 707us/step - loss: 20.2679 - root_mean_squared_error: 4.4992\n",
      "Epoch 4/20\n",
      "\u001b[1m634/634\u001b[0m \u001b[32m━━━━━━━━━━━━━━━━━━━━\u001b[0m\u001b[37m\u001b[0m \u001b[1m0s\u001b[0m 714us/step - loss: 17.7844 - root_mean_squared_error: 4.2132\n",
      "Epoch 5/20\n",
      "\u001b[1m634/634\u001b[0m \u001b[32m━━━━━━━━━━━━━━━━━━━━\u001b[0m\u001b[37m\u001b[0m \u001b[1m1s\u001b[0m 754us/step - loss: 16.4919 - root_mean_squared_error: 4.0587\n",
      "Epoch 6/20\n",
      "\u001b[1m634/634\u001b[0m \u001b[32m━━━━━━━━━━━━━━━━━━━━\u001b[0m\u001b[37m\u001b[0m \u001b[1m1s\u001b[0m 808us/step - loss: 16.1580 - root_mean_squared_error: 4.0173\n",
      "Epoch 7/20\n",
      "\u001b[1m634/634\u001b[0m \u001b[32m━━━━━━━━━━━━━━━━━━━━\u001b[0m\u001b[37m\u001b[0m \u001b[1m0s\u001b[0m 746us/step - loss: 14.6946 - root_mean_squared_error: 3.8253\n",
      "Epoch 8/20\n",
      "\u001b[1m634/634\u001b[0m \u001b[32m━━━━━━━━━━━━━━━━━━━━\u001b[0m\u001b[37m\u001b[0m \u001b[1m0s\u001b[0m 719us/step - loss: 15.0702 - root_mean_squared_error: 3.8739\n",
      "Epoch 9/20\n",
      "\u001b[1m634/634\u001b[0m \u001b[32m━━━━━━━━━━━━━━━━━━━━\u001b[0m\u001b[37m\u001b[0m \u001b[1m0s\u001b[0m 742us/step - loss: 13.7560 - root_mean_squared_error: 3.6912\n",
      "Epoch 10/20\n",
      "\u001b[1m634/634\u001b[0m \u001b[32m━━━━━━━━━━━━━━━━━━━━\u001b[0m\u001b[37m\u001b[0m \u001b[1m0s\u001b[0m 707us/step - loss: 14.0234 - root_mean_squared_error: 3.7383\n",
      "Epoch 11/20\n",
      "\u001b[1m634/634\u001b[0m \u001b[32m━━━━━━━━━━━━━━━━━━━━\u001b[0m\u001b[37m\u001b[0m \u001b[1m1s\u001b[0m 740us/step - loss: 14.1273 - root_mean_squared_error: 3.7550\n",
      "Epoch 12/20\n",
      "\u001b[1m634/634\u001b[0m \u001b[32m━━━━━━━━━━━━━━━━━━━━\u001b[0m\u001b[37m\u001b[0m \u001b[1m1s\u001b[0m 732us/step - loss: 13.8100 - root_mean_squared_error: 3.7114\n",
      "Epoch 13/20\n",
      "\u001b[1m634/634\u001b[0m \u001b[32m━━━━━━━━━━━━━━━━━━━━\u001b[0m\u001b[37m\u001b[0m \u001b[1m0s\u001b[0m 693us/step - loss: 15.0994 - root_mean_squared_error: 3.8728\n",
      "Epoch 14/20\n",
      "\u001b[1m634/634\u001b[0m \u001b[32m━━━━━━━━━━━━━━━━━━━━\u001b[0m\u001b[37m\u001b[0m \u001b[1m1s\u001b[0m 736us/step - loss: 14.1273 - root_mean_squared_error: 3.7412\n",
      "Epoch 15/20\n",
      "\u001b[1m634/634\u001b[0m \u001b[32m━━━━━━━━━━━━━━━━━━━━\u001b[0m\u001b[37m\u001b[0m \u001b[1m0s\u001b[0m 714us/step - loss: 14.1601 - root_mean_squared_error: 3.7591\n",
      "Epoch 16/20\n",
      "\u001b[1m634/634\u001b[0m \u001b[32m━━━━━━━━━━━━━━━━━━━━\u001b[0m\u001b[37m\u001b[0m \u001b[1m1s\u001b[0m 734us/step - loss: 14.8090 - root_mean_squared_error: 3.8404\n",
      "Epoch 17/20\n",
      "\u001b[1m634/634\u001b[0m \u001b[32m━━━━━━━━━━━━━━━━━━━━\u001b[0m\u001b[37m\u001b[0m \u001b[1m1s\u001b[0m 934us/step - loss: 14.6467 - root_mean_squared_error: 3.8235\n",
      "Epoch 18/20\n",
      "\u001b[1m634/634\u001b[0m \u001b[32m━━━━━━━━━━━━━━━━━━━━\u001b[0m\u001b[37m\u001b[0m \u001b[1m1s\u001b[0m 1ms/step - loss: 14.2117 - root_mean_squared_error: 3.7613\n",
      "Epoch 19/20\n",
      "\u001b[1m634/634\u001b[0m \u001b[32m━━━━━━━━━━━━━━━━━━━━\u001b[0m\u001b[37m\u001b[0m \u001b[1m1s\u001b[0m 927us/step - loss: 13.9687 - root_mean_squared_error: 3.7296\n",
      "Epoch 20/20\n",
      "\u001b[1m634/634\u001b[0m \u001b[32m━━━━━━━━━━━━━━━━━━━━\u001b[0m\u001b[37m\u001b[0m \u001b[1m1s\u001b[0m 1ms/step - loss: 12.3406 - root_mean_squared_error: 3.5057  \n",
      "\n",
      "SUCCESS: training experiment complete\n",
      "\n",
      "--------------------------------------------------------------------------------\n",
      "|                                  MODEL INFO                                  |\n",
      "--------------------------------------------------------------------------------\n",
      "Weight for feature[TRIP_MILES]: 2.289\n",
      "Bias: 4.971\n",
      "\n",
      "FARE = 2.289 * TRIP_MILES + 4.971\n",
      "\n"
     ]
    },
    {
     "data": {
      "application/vnd.plotly.v1+json": {
       "config": {
        "plotlyServerURL": "https://plot.ly"
       },
       "data": [
        {
         "hovertemplate": "TRIP_MILES=%{x}<br>FARE=%{y}<extra></extra>",
         "legendgroup": "",
         "marker": {
          "color": "#636efa",
          "symbol": "circle"
         },
         "mode": "markers",
         "name": "",
         "orientation": "v",
         "showlegend": false,
         "type": "scatter",
         "x": {
          "bdata": "16NwPQrX8z9mZmZmZmb2P5qZmZmZmek/zczMzMyMMkDD9Shcj8INQEjhehSuR/k/ZmZmZmZmKUCkcD0K16MlQK5H4XoU7jFAH4XrUbgeEUCamZmZmZnpP2ZmZmZmZv4/XI/C9Shc7z8pXI/C9SgyQHE9Ctej8CRAhetRuB6F6z/hehSuR+HiP6RwPQrX4z1AuB6F61H4NEBmZmZmZmb2P2ZmZmZmZiRAw/UoXI/CJ0CamZmZmZkBQJqZmZmZmfE/zczMzMxMP0AAAAAAAAAiQGZmZmZmZixAH4XrUbgeM0DNzMzMzMwEQM3MzMzMzOw/hetRuB6F+z9mZmZmZmb2P4/C9ShcjzRAXI/C9ShcBUCuR+F6FO40QK5H4XoUbjJAzczMzMzMKUBxPQrXo3D5P+xRuB6FayRAMzMzMzMzEUAK16NwPYojQNejcD0K1/M/j8L1KFyP8j/NzMzMzMwxQIXrUbgehQ9AuB6F61G4HkC4HoXrUbgGQEjhehSuR/k/cT0K16NwD0C4HoXrUbjuPylcj8L1qCtAPQrXo3A9AEAfhetRuB79P1yPwvUoXAFAzczMzMzMEUDNzMzMzMz8PzMzMzMzMyVAmpmZmZkZMkDNzMzMzEwkQDMzMzMzMzNAMzMzMzMz+z9xPQrXo3AcQArXo3A9Cu8/FK5H4XoU9j8AAAAAAAA+QEjhehSuR+k/ZmZmZmZm5j+uR+F6FK7vPwAAAAAAAPA/16NwPQpXI0CuR+F6FG4xQGZmZmZmZjpAKVyPwvUo8D9mZmZmZmYtQMP1KFyPwuU/mpmZmZkZL0AUrkfhehT2P+F6FK5H4QBAMzMzMzMz+z+PwvUoXI8hQDMzMzMzM/M/PQrXo3A98j9I4XoUrkccQPYoXI/C9fw/CtejcD0K/z/NzMzMzMzsP7gehetRuClAFK5H4XrUMEDNzMzMzMwAQM3MzMzMzCRA9ihcj8L1IECkcD0K16MAQJqZmZmZmQFAmpmZmZmZBUBSuB6F61EEQDMzMzMzMypAzczMzMzMMUB7FK5H4boxQM3MzMzMzCJAexSuR+F6OEDNzMzMzEwyQM3MzMzMzPQ/H4XrUbgeJ0DXo3A9Ctf3P4XrUbgehfM/H4XrUbge/T8AAAAAAAArQM3MzMzMzAxAAAAAAAAADEAUrkfhepQgQDMzMzMzM/s/MzMzMzMz4z/sUbgehevhP65H4XoUrh1AH4XrUbgeG0DNzMzMzMwuQJqZmZmZmTJAZmZmZmZmEEC4HoXrUbjuP4/C9Shcj/I/H4XrUbjeMUCuR+F6FK4rQClcj8L1qDBAmpmZmZkZMkDXo3A9CpcwQKRwPQrXIy5AMzMzMzMz8z8zMzMzM7MxQHsUrkfhejFAPQrXo3A9JUCkcD0K16PgPwrXo3A9Cuc/16NwPQpXLkCuR+F6FK7vP83MzMzMzPg/mpmZmZkZMkBxPQrXo3D9PxSuR+F6FP4/CtejcD1KMECamZmZmZkZQJqZmZmZGTBAcT0K16NwH0CF61G4HoXjP83MzMzMzABA4XoUrkfh9j+kcD0K16P0P+xRuB6FKzFAH4XrUbgeMUDNzMzMzMwIQJqZmZmZmek/PQrXo3C9MUAK16NwPQrvP/YoXI/C9RJAUrgehetRAEBmZmZmZmb2PwAAAAAAAABAmpmZmZmZ6T9xPQrXo3DlP5qZmZmZmSpAAAAAAAAA4D9SuB6F61EAQM3MzMzMzCdAmpmZmZmZKECamZmZmZkJQAAAAAAAACNAZmZmZmZmFkDD9Shcj8LtP4XrUbgehRRAmpmZmZkZMUDNzMzMzMwhQGZmZmZmZiVAAAAAAAAAHkBcj8L1KFwBQDMzMzMzMwdApHA9Ctej+D97FK5H4XoxQI/C9ShcDytAZmZmZmZmHUAAAAAAAAAZQHE9CtejcBJAzczMzMzM5D97FK5H4XoAQDMzMzMzMzFA7FG4HoVrJUAAAAAAAAApQHsUrkfhehZAmpmZmZmZ+T8K16NwPQoxQPYoXI/CdTFAzczMzMzMJUA9CtejcL0oQDMzMzMzMzJAzczMzMzMCkApXI/C9SgCQAAAAAAAgDBAAAAAAAAA+D8pXI/C9SgEQHE9Ctej8ClAFK5H4XoUHUCPwvUoXI/2Pw==",
          "dtype": "f8"
         },
         "xaxis": "x2",
         "y": {
          "bdata": "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",
          "dtype": "f8"
         },
         "yaxis": "y2"
        },
        {
         "hovertemplate": "TRIP_MILES=%{x}<br>FARE_PREDICTED=%{y}<extra></extra>",
         "legendgroup": "",
         "line": {
          "color": "#ff0000",
          "dash": "solid",
          "width": 3
         },
         "marker": {
          "symbol": "circle"
         },
         "mode": "lines",
         "name": "",
         "orientation": "v",
         "showlegend": false,
         "type": "scatter",
         "x": {
          "bdata": "16NwPQrX8z9mZmZmZmb2P5qZmZmZmek/zczMzMyMMkDD9Shcj8INQEjhehSuR/k/ZmZmZmZmKUCkcD0K16MlQK5H4XoU7jFAH4XrUbgeEUCamZmZmZnpP2ZmZmZmZv4/XI/C9Shc7z8pXI/C9SgyQHE9Ctej8CRAhetRuB6F6z/hehSuR+HiP6RwPQrX4z1AuB6F61H4NEBmZmZmZmb2P2ZmZmZmZiRAw/UoXI/CJ0CamZmZmZkBQJqZmZmZmfE/zczMzMxMP0AAAAAAAAAiQGZmZmZmZixAH4XrUbgeM0DNzMzMzMwEQM3MzMzMzOw/hetRuB6F+z9mZmZmZmb2P4/C9ShcjzRAXI/C9ShcBUCuR+F6FO40QK5H4XoUbjJAzczMzMzMKUBxPQrXo3D5P+xRuB6FayRAMzMzMzMzEUAK16NwPYojQNejcD0K1/M/j8L1KFyP8j/NzMzMzMwxQIXrUbgehQ9AuB6F61G4HkC4HoXrUbgGQEjhehSuR/k/cT0K16NwD0C4HoXrUbjuPylcj8L1qCtAPQrXo3A9AEAfhetRuB79P1yPwvUoXAFAzczMzMzMEUDNzMzMzMz8PzMzMzMzMyVAmpmZmZkZMkDNzMzMzEwkQDMzMzMzMzNAMzMzMzMz+z9xPQrXo3AcQArXo3A9Cu8/FK5H4XoU9j8AAAAAAAA+QEjhehSuR+k/ZmZmZmZm5j+uR+F6FK7vPwAAAAAAAPA/16NwPQpXI0CuR+F6FG4xQGZmZmZmZjpAKVyPwvUo8D9mZmZmZmYtQMP1KFyPwuU/mpmZmZkZL0AUrkfhehT2P+F6FK5H4QBAMzMzMzMz+z+PwvUoXI8hQDMzMzMzM/M/PQrXo3A98j9I4XoUrkccQPYoXI/C9fw/CtejcD0K/z/NzMzMzMzsP7gehetRuClAFK5H4XrUMEDNzMzMzMwAQM3MzMzMzCRA9ihcj8L1IECkcD0K16MAQJqZmZmZmQFAmpmZmZmZBUBSuB6F61EEQDMzMzMzMypAzczMzMzMMUB7FK5H4boxQM3MzMzMzCJAexSuR+F6OEDNzMzMzEwyQM3MzMzMzPQ/H4XrUbgeJ0DXo3A9Ctf3P4XrUbgehfM/H4XrUbge/T8AAAAAAAArQM3MzMzMzAxAAAAAAAAADEAUrkfhepQgQDMzMzMzM/s/MzMzMzMz4z/sUbgehevhP65H4XoUrh1AH4XrUbgeG0DNzMzMzMwuQJqZmZmZmTJAZmZmZmZmEEC4HoXrUbjuP4/C9Shcj/I/H4XrUbjeMUCuR+F6FK4rQClcj8L1qDBAmpmZmZkZMkDXo3A9CpcwQKRwPQrXIy5AMzMzMzMz8z8zMzMzM7MxQHsUrkfhejFAPQrXo3A9JUCkcD0K16PgPwrXo3A9Cuc/16NwPQpXLkCuR+F6FK7vP83MzMzMzPg/mpmZmZkZMkBxPQrXo3D9PxSuR+F6FP4/CtejcD1KMECamZmZmZkZQJqZmZmZGTBAcT0K16NwH0CF61G4HoXjP83MzMzMzABA4XoUrkfh9j+kcD0K16P0P+xRuB6FKzFAH4XrUbgeMUDNzMzMzMwIQJqZmZmZmek/PQrXo3C9MUAK16NwPQrvP/YoXI/C9RJAUrgehetRAEBmZmZmZmb2PwAAAAAAAABAmpmZmZmZ6T9xPQrXo3DlP5qZmZmZmSpAAAAAAAAA4D9SuB6F61EAQM3MzMzMzCdAmpmZmZmZKECamZmZmZkJQAAAAAAAACNAZmZmZmZmFkDD9Shcj8LtP4XrUbgehRRAmpmZmZkZMUDNzMzMzMwhQGZmZmZmZiVAAAAAAAAAHkBcj8L1KFwBQDMzMzMzMwdApHA9Ctej+D97FK5H4XoxQI/C9ShcDytAZmZmZmZmHUAAAAAAAAAZQHE9CtejcBJAzczMzMzM5D97FK5H4XoAQDMzMzMzMzFA7FG4HoVrJUAAAAAAAAApQHsUrkfhehZAmpmZmZmZ+T8K16NwPQoxQPYoXI/CdTFAzczMzMzMJUA9CtejcL0oQDMzMzMzMzJAzczMzMzMCkApXI/C9SgCQAAAAAAAgDBAAAAAAAAA+D8pXI/C9SgEQHE9Ctej8ClAFK5H4XoUHUCPwvUoXI/2Pw==",
          "dtype": "f8"
         },
         "xaxis": "x2",
         "y": {
          "bdata": "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",
          "dtype": "f8"
         },
         "yaxis": "y2"
        },
        {
         "hovertemplate": "x=%{x}<br>y=%{y}<extra></extra>",
         "legendgroup": "",
         "line": {
          "color": "#ff0000",
          "dash": "solid",
          "width": 3
         },
         "marker": {
          "symbol": "circle"
         },
         "mode": "lines",
         "name": "",
         "orientation": "v",
         "showlegend": false,
         "type": "scatter",
         "x": {
          "bdata": "AAECAwQFBgcICQoLDA0ODxAREhM=",
          "dtype": "i1"
         },
         "xaxis": "x",
         "y": {
          "bdata": "AAAAwAWtJ0AAAADAb2IYQAAAAEBnkxFAAAAAwBDUEEAAAABgfzQQQAAAACCdfA9AAAAAoDvKDkAAAABghGAOQAAAAEDnJA5AAAAAACoLDkAAAACgi/8NQAAAACD7+Q1AAAAAAAT5DUAAAABgZfgNQAAAAGAi+A1AAAAAQJv3DUAAAABAYfcNQAAAAMCM9w1AAAAAwKH3DUAAAACgS/cNQA==",
          "dtype": "f8"
         },
         "yaxis": "y"
        }
       ],
       "layout": {
        "annotations": [
         {
          "font": {
           "size": 16
          },
          "showarrow": false,
          "text": "Loss Curve",
          "x": 0.225,
          "xanchor": "center",
          "xref": "paper",
          "y": 1,
          "yanchor": "bottom",
          "yref": "paper"
         },
         {
          "font": {
           "size": 16
          },
          "showarrow": false,
          "text": "Model Plot",
          "x": 0.775,
          "xanchor": "center",
          "xref": "paper",
          "y": 1,
          "yanchor": "bottom",
          "yref": "paper"
         }
        ],
        "template": {
         "data": {
          "bar": [
           {
            "error_x": {
             "color": "#2a3f5f"
            },
            "error_y": {
             "color": "#2a3f5f"
            },
            "marker": {
             "line": {
              "color": "#E5ECF6",
              "width": 0.5
             },
             "pattern": {
              "fillmode": "overlay",
              "size": 10,
              "solidity": 0.2
             }
            },
            "type": "bar"
           }
          ],
          "barpolar": [
           {
            "marker": {
             "line": {
              "color": "#E5ECF6",
              "width": 0.5
             },
             "pattern": {
              "fillmode": "overlay",
              "size": 10,
              "solidity": 0.2
             }
            },
            "type": "barpolar"
           }
          ],
          "carpet": [
           {
            "aaxis": {
             "endlinecolor": "#2a3f5f",
             "gridcolor": "white",
             "linecolor": "white",
             "minorgridcolor": "white",
             "startlinecolor": "#2a3f5f"
            },
            "baxis": {
             "endlinecolor": "#2a3f5f",
             "gridcolor": "white",
             "linecolor": "white",
             "minorgridcolor": "white",
             "startlinecolor": "#2a3f5f"
            },
            "type": "carpet"
           }
          ],
          "choropleth": [
           {
            "colorbar": {
             "outlinewidth": 0,
             "ticks": ""
            },
            "type": "choropleth"
           }
          ],
          "contour": [
           {
            "colorbar": {
             "outlinewidth": 0,
             "ticks": ""
            },
            "colorscale": [
             [
              0,
              "#0d0887"
             ],
             [
              0.1111111111111111,
              "#46039f"
             ],
             [
              0.2222222222222222,
              "#7201a8"
             ],
             [
              0.3333333333333333,
              "#9c179e"
             ],
             [
              0.4444444444444444,
              "#bd3786"
             ],
             [
              0.5555555555555556,
              "#d8576b"
             ],
             [
              0.6666666666666666,
              "#ed7953"
             ],
             [
              0.7777777777777778,
              "#fb9f3a"
             ],
             [
              0.8888888888888888,
              "#fdca26"
             ],
             [
              1,
              "#f0f921"
             ]
            ],
            "type": "contour"
           }
          ],
          "contourcarpet": [
           {
            "colorbar": {
             "outlinewidth": 0,
             "ticks": ""
            },
            "type": "contourcarpet"
           }
          ],
          "heatmap": [
           {
            "colorbar": {
             "outlinewidth": 0,
             "ticks": ""
            },
            "colorscale": [
             [
              0,
              "#0d0887"
             ],
             [
              0.1111111111111111,
              "#46039f"
             ],
             [
              0.2222222222222222,
              "#7201a8"
             ],
             [
              0.3333333333333333,
              "#9c179e"
             ],
             [
              0.4444444444444444,
              "#bd3786"
             ],
             [
              0.5555555555555556,
              "#d8576b"
             ],
             [
              0.6666666666666666,
              "#ed7953"
             ],
             [
              0.7777777777777778,
              "#fb9f3a"
             ],
             [
              0.8888888888888888,
              "#fdca26"
             ],
             [
              1,
              "#f0f921"
             ]
            ],
            "type": "heatmap"
           }
          ],
          "histogram": [
           {
            "marker": {
             "pattern": {
              "fillmode": "overlay",
              "size": 10,
              "solidity": 0.2
             }
            },
            "type": "histogram"
           }
          ],
          "histogram2d": [
           {
            "colorbar": {
             "outlinewidth": 0,
             "ticks": ""
            },
            "colorscale": [
             [
              0,
              "#0d0887"
             ],
             [
              0.1111111111111111,
              "#46039f"
             ],
             [
              0.2222222222222222,
              "#7201a8"
             ],
             [
              0.3333333333333333,
              "#9c179e"
             ],
             [
              0.4444444444444444,
              "#bd3786"
             ],
             [
              0.5555555555555556,
              "#d8576b"
             ],
             [
              0.6666666666666666,
              "#ed7953"
             ],
             [
              0.7777777777777778,
              "#fb9f3a"
             ],
             [
              0.8888888888888888,
              "#fdca26"
             ],
             [
              1,
              "#f0f921"
             ]
            ],
            "type": "histogram2d"
           }
          ],
          "histogram2dcontour": [
           {
            "colorbar": {
             "outlinewidth": 0,
             "ticks": ""
            },
            "colorscale": [
             [
              0,
              "#0d0887"
             ],
             [
              0.1111111111111111,
              "#46039f"
             ],
             [
              0.2222222222222222,
              "#7201a8"
             ],
             [
              0.3333333333333333,
              "#9c179e"
             ],
             [
              0.4444444444444444,
              "#bd3786"
             ],
             [
              0.5555555555555556,
              "#d8576b"
             ],
             [
              0.6666666666666666,
              "#ed7953"
             ],
             [
              0.7777777777777778,
              "#fb9f3a"
             ],
             [
              0.8888888888888888,
              "#fdca26"
             ],
             [
              1,
              "#f0f921"
             ]
            ],
            "type": "histogram2dcontour"
           }
          ],
          "mesh3d": [
           {
            "colorbar": {
             "outlinewidth": 0,
             "ticks": ""
            },
            "type": "mesh3d"
           }
          ],
          "parcoords": [
           {
            "line": {
             "colorbar": {
              "outlinewidth": 0,
              "ticks": ""
             }
            },
            "type": "parcoords"
           }
          ],
          "pie": [
           {
            "automargin": true,
            "type": "pie"
           }
          ],
          "scatter": [
           {
            "fillpattern": {
             "fillmode": "overlay",
             "size": 10,
             "solidity": 0.2
            },
            "type": "scatter"
           }
          ],
          "scatter3d": [
           {
            "line": {
             "colorbar": {
              "outlinewidth": 0,
              "ticks": ""
             }
            },
            "marker": {
             "colorbar": {
              "outlinewidth": 0,
              "ticks": ""
             }
            },
            "type": "scatter3d"
           }
          ],
          "scattercarpet": [
           {
            "marker": {
             "colorbar": {
              "outlinewidth": 0,
              "ticks": ""
             }
            },
            "type": "scattercarpet"
           }
          ],
          "scattergeo": [
           {
            "marker": {
             "colorbar": {
              "outlinewidth": 0,
              "ticks": ""
             }
            },
            "type": "scattergeo"
           }
          ],
          "scattergl": [
           {
            "marker": {
             "colorbar": {
              "outlinewidth": 0,
              "ticks": ""
             }
            },
            "type": "scattergl"
           }
          ],
          "scattermap": [
           {
            "marker": {
             "colorbar": {
              "outlinewidth": 0,
              "ticks": ""
             }
            },
            "type": "scattermap"
           }
          ],
          "scattermapbox": [
           {
            "marker": {
             "colorbar": {
              "outlinewidth": 0,
              "ticks": ""
             }
            },
            "type": "scattermapbox"
           }
          ],
          "scatterpolar": [
           {
            "marker": {
             "colorbar": {
              "outlinewidth": 0,
              "ticks": ""
             }
            },
            "type": "scatterpolar"
           }
          ],
          "scatterpolargl": [
           {
            "marker": {
             "colorbar": {
              "outlinewidth": 0,
              "ticks": ""
             }
            },
            "type": "scatterpolargl"
           }
          ],
          "scatterternary": [
           {
            "marker": {
             "colorbar": {
              "outlinewidth": 0,
              "ticks": ""
             }
            },
            "type": "scatterternary"
           }
          ],
          "surface": [
           {
            "colorbar": {
             "outlinewidth": 0,
             "ticks": ""
            },
            "colorscale": [
             [
              0,
              "#0d0887"
             ],
             [
              0.1111111111111111,
              "#46039f"
             ],
             [
              0.2222222222222222,
              "#7201a8"
             ],
             [
              0.3333333333333333,
              "#9c179e"
             ],
             [
              0.4444444444444444,
              "#bd3786"
             ],
             [
              0.5555555555555556,
              "#d8576b"
             ],
             [
              0.6666666666666666,
              "#ed7953"
             ],
             [
              0.7777777777777778,
              "#fb9f3a"
             ],
             [
              0.8888888888888888,
              "#fdca26"
             ],
             [
              1,
              "#f0f921"
             ]
            ],
            "type": "surface"
           }
          ],
          "table": [
           {
            "cells": {
             "fill": {
              "color": "#EBF0F8"
             },
             "line": {
              "color": "white"
             }
            },
            "header": {
             "fill": {
              "color": "#C8D4E3"
             },
             "line": {
              "color": "white"
             }
            },
            "type": "table"
           }
          ]
         },
         "layout": {
          "annotationdefaults": {
           "arrowcolor": "#2a3f5f",
           "arrowhead": 0,
           "arrowwidth": 1
          },
          "autotypenumbers": "strict",
          "coloraxis": {
           "colorbar": {
            "outlinewidth": 0,
            "ticks": ""
           }
          },
          "colorscale": {
           "diverging": [
            [
             0,
             "#8e0152"
            ],
            [
             0.1,
             "#c51b7d"
            ],
            [
             0.2,
             "#de77ae"
            ],
            [
             0.3,
             "#f1b6da"
            ],
            [
             0.4,
             "#fde0ef"
            ],
            [
             0.5,
             "#f7f7f7"
            ],
            [
             0.6,
             "#e6f5d0"
            ],
            [
             0.7,
             "#b8e186"
            ],
            [
             0.8,
             "#7fbc41"
            ],
            [
             0.9,
             "#4d9221"
            ],
            [
             1,
             "#276419"
            ]
           ],
           "sequential": [
            [
             0,
             "#0d0887"
            ],
            [
             0.1111111111111111,
             "#46039f"
            ],
            [
             0.2222222222222222,
             "#7201a8"
            ],
            [
             0.3333333333333333,
             "#9c179e"
            ],
            [
             0.4444444444444444,
             "#bd3786"
            ],
            [
             0.5555555555555556,
             "#d8576b"
            ],
            [
             0.6666666666666666,
             "#ed7953"
            ],
            [
             0.7777777777777778,
             "#fb9f3a"
            ],
            [
             0.8888888888888888,
             "#fdca26"
            ],
            [
             1,
             "#f0f921"
            ]
           ],
           "sequentialminus": [
            [
             0,
             "#0d0887"
            ],
            [
             0.1111111111111111,
             "#46039f"
            ],
            [
             0.2222222222222222,
             "#7201a8"
            ],
            [
             0.3333333333333333,
             "#9c179e"
            ],
            [
             0.4444444444444444,
             "#bd3786"
            ],
            [
             0.5555555555555556,
             "#d8576b"
            ],
            [
             0.6666666666666666,
             "#ed7953"
            ],
            [
             0.7777777777777778,
             "#fb9f3a"
            ],
            [
             0.8888888888888888,
             "#fdca26"
            ],
            [
             1,
             "#f0f921"
            ]
           ]
          },
          "colorway": [
           "#636efa",
           "#EF553B",
           "#00cc96",
           "#ab63fa",
           "#FFA15A",
           "#19d3f3",
           "#FF6692",
           "#B6E880",
           "#FF97FF",
           "#FECB52"
          ],
          "font": {
           "color": "#2a3f5f"
          },
          "geo": {
           "bgcolor": "white",
           "lakecolor": "white",
           "landcolor": "#E5ECF6",
           "showlakes": true,
           "showland": true,
           "subunitcolor": "white"
          },
          "hoverlabel": {
           "align": "left"
          },
          "hovermode": "closest",
          "mapbox": {
           "style": "light"
          },
          "paper_bgcolor": "white",
          "plot_bgcolor": "#E5ECF6",
          "polar": {
           "angularaxis": {
            "gridcolor": "white",
            "linecolor": "white",
            "ticks": ""
           },
           "bgcolor": "#E5ECF6",
           "radialaxis": {
            "gridcolor": "white",
            "linecolor": "white",
            "ticks": ""
           }
          },
          "scene": {
           "xaxis": {
            "backgroundcolor": "#E5ECF6",
            "gridcolor": "white",
            "gridwidth": 2,
            "linecolor": "white",
            "showbackground": true,
            "ticks": "",
            "zerolinecolor": "white"
           },
           "yaxis": {
            "backgroundcolor": "#E5ECF6",
            "gridcolor": "white",
            "gridwidth": 2,
            "linecolor": "white",
            "showbackground": true,
            "ticks": "",
            "zerolinecolor": "white"
           },
           "zaxis": {
            "backgroundcolor": "#E5ECF6",
            "gridcolor": "white",
            "gridwidth": 2,
            "linecolor": "white",
            "showbackground": true,
            "ticks": "",
            "zerolinecolor": "white"
           }
          },
          "shapedefaults": {
           "line": {
            "color": "#2a3f5f"
           }
          },
          "ternary": {
           "aaxis": {
            "gridcolor": "white",
            "linecolor": "white",
            "ticks": ""
           },
           "baxis": {
            "gridcolor": "white",
            "linecolor": "white",
            "ticks": ""
           },
           "bgcolor": "#E5ECF6",
           "caxis": {
            "gridcolor": "white",
            "linecolor": "white",
            "ticks": ""
           }
          },
          "title": {
           "x": 0.05
          },
          "xaxis": {
           "automargin": true,
           "gridcolor": "white",
           "linecolor": "white",
           "ticks": "",
           "title": {
            "standoff": 15
           },
           "zerolinecolor": "white",
           "zerolinewidth": 2
          },
          "yaxis": {
           "automargin": true,
           "gridcolor": "white",
           "linecolor": "white",
           "ticks": "",
           "title": {
            "standoff": 15
           },
           "zerolinecolor": "white",
           "zerolinewidth": 2
          }
         }
        },
        "xaxis": {
         "anchor": "y",
         "domain": [
          0,
          0.45
         ],
         "title": {
          "text": "Epoch"
         }
        },
        "xaxis2": {
         "anchor": "y2",
         "domain": [
          0.55,
          1
         ],
         "title": {
          "text": "TRIP_MILES"
         }
        },
        "yaxis": {
         "anchor": "x",
         "domain": [
          0,
          1
         ],
         "range": [
          2.9965997695922852,
          11.837934494018555
         ],
         "title": {
          "text": "Root Mean Squared Error"
         }
        },
        "yaxis2": {
         "anchor": "x2",
         "domain": [
          0,
          1
         ],
         "title": {
          "text": "FARE"
         }
        }
       }
      },
      "image/png": "[encoded data removed]"
     },
     "metadata": {},
     "output_type": "display_data"
    }
   ],
   "source": [
    "#@title Code - Experiment 1\n",
    "\n",
    "# The following variables are the hyperparameters.\n",
    "learning_rate = 0.001\n",
    "epochs = 20\n",
    "batch_size = 50\n",
    "\n",
    "# Specify the feature and the label.\n",
    "features = ['TRIP_MILES']\n",
    "label = 'FARE'\n",
    "\n",
    "model_1 = run_experiment(training_dataSet, features, label, learning_rate, epochs, batch_size)"
   ]
  },
  {
   "cell_type": "code",
   "execution_count": 33,
   "id": "e4d2a913-b84b-4a8c-b55f-c871ad8cac0e",
   "metadata": {},
   "outputs": [
    {
     "name": "stdout",
     "output_type": "stream",
     "text": [
      "INFO: starting training experiment with features=['TRIP_MILES', 'TRIP_MINUTES'] and label=FARE\n",
      "\n",
      "Epoch 1/20\n",
      "\u001b[1m634/634\u001b[0m \u001b[32m━━━━━━━━━━━━━━━━━━━━\u001b[0m\u001b[37m\u001b[0m \u001b[1m1s\u001b[0m 777us/step - loss: 1470.1692 - root_mean_squared_error: 38.1981\n",
      "Epoch 2/20\n",
      "\u001b[1m634/634\u001b[0m \u001b[32m━━━━━━━━━━━━━━━━━━━━\u001b[0m\u001b[37m\u001b[0m \u001b[1m0s\u001b[0m 746us/step - loss: 258.4948 - root_mean_squared_error: 15.8828\n",
      "Epoch 3/20\n",
      "\u001b[1m634/634\u001b[0m \u001b[32m━━━━━━━━━━━━━━━━━━━━\u001b[0m\u001b[37m\u001b[0m \u001b[1m0s\u001b[0m 728us/step - loss: 28.4146 - root_mean_squared_error: 5.3233\n",
      "Epoch 4/20\n",
      "\u001b[1m634/634\u001b[0m \u001b[32m━━━━━━━━━━━━━━━━━━━━\u001b[0m\u001b[37m\u001b[0m \u001b[1m1s\u001b[0m 751us/step - loss: 18.3071 - root_mean_squared_error: 4.2765\n",
      "Epoch 5/20\n",
      "\u001b[1m634/634\u001b[0m \u001b[32m━━━━━━━━━━━━━━━━━━━━\u001b[0m\u001b[37m\u001b[0m \u001b[1m0s\u001b[0m 743us/step - loss: 13.1896 - root_mean_squared_error: 3.6278\n",
      "Epoch 6/20\n",
      "\u001b[1m634/634\u001b[0m \u001b[32m━━━━━━━━━━━━━━━━━━━━\u001b[0m\u001b[37m\u001b[0m \u001b[1m0s\u001b[0m 711us/step - loss: 12.3221 - root_mean_squared_error: 3.5065\n",
      "Epoch 7/20\n",
      "\u001b[1m634/634\u001b[0m \u001b[32m━━━━━━━━━━━━━━━━━━━━\u001b[0m\u001b[37m\u001b[0m \u001b[1m1s\u001b[0m 746us/step - loss: 13.1294 - root_mean_squared_error: 3.6124\n",
      "Epoch 8/20\n",
      "\u001b[1m634/634\u001b[0m \u001b[32m━━━━━━━━━━━━━━━━━━━━\u001b[0m\u001b[37m\u001b[0m \u001b[1m1s\u001b[0m 763us/step - loss: 12.9046 - root_mean_squared_error: 3.5823\n",
      "Epoch 9/20\n",
      "\u001b[1m634/634\u001b[0m \u001b[32m━━━━━━━━━━━━━━━━━━━━\u001b[0m\u001b[37m\u001b[0m \u001b[1m0s\u001b[0m 744us/step - loss: 12.5214 - root_mean_squared_error: 3.5330\n",
      "Epoch 10/20\n",
      "\u001b[1m634/634\u001b[0m \u001b[32m━━━━━━━━━━━━━━━━━━━━\u001b[0m\u001b[37m\u001b[0m \u001b[1m1s\u001b[0m 764us/step - loss: 11.5818 - root_mean_squared_error: 3.3952\n",
      "Epoch 11/20\n",
      "\u001b[1m634/634\u001b[0m \u001b[32m━━━━━━━━━━━━━━━━━━━━\u001b[0m\u001b[37m\u001b[0m \u001b[1m1s\u001b[0m 814us/step - loss: 12.9171 - root_mean_squared_error: 3.5867\n",
      "Epoch 12/20\n",
      "\u001b[1m634/634\u001b[0m \u001b[32m━━━━━━━━━━━━━━━━━━━━\u001b[0m\u001b[37m\u001b[0m \u001b[1m0s\u001b[0m 716us/step - loss: 11.3049 - root_mean_squared_error: 3.3553\n",
      "Epoch 13/20\n",
      "\u001b[1m634/634\u001b[0m \u001b[32m━━━━━━━━━━━━━━━━━━━━\u001b[0m\u001b[37m\u001b[0m \u001b[1m1s\u001b[0m 739us/step - loss: 11.0492 - root_mean_squared_error: 3.3020\n",
      "Epoch 14/20\n",
      "\u001b[1m634/634\u001b[0m \u001b[32m━━━━━━━━━━━━━━━━━━━━\u001b[0m\u001b[37m\u001b[0m \u001b[1m0s\u001b[0m 721us/step - loss: 13.0089 - root_mean_squared_error: 3.6024\n",
      "Epoch 15/20\n",
      "\u001b[1m634/634\u001b[0m \u001b[32m━━━━━━━━━━━━━━━━━━━━\u001b[0m\u001b[37m\u001b[0m \u001b[1m1s\u001b[0m 756us/step - loss: 12.4101 - root_mean_squared_error: 3.5069\n",
      "Epoch 16/20\n",
      "\u001b[1m634/634\u001b[0m \u001b[32m━━━━━━━━━━━━━━━━━━━━\u001b[0m\u001b[37m\u001b[0m \u001b[1m1s\u001b[0m 749us/step - loss: 11.6930 - root_mean_squared_error: 3.4170\n",
      "Epoch 17/20\n",
      "\u001b[1m634/634\u001b[0m \u001b[32m━━━━━━━━━━━━━━━━━━━━\u001b[0m\u001b[37m\u001b[0m \u001b[1m0s\u001b[0m 722us/step - loss: 11.7795 - root_mean_squared_error: 3.4200\n",
      "Epoch 18/20\n",
      "\u001b[1m634/634\u001b[0m \u001b[32m━━━━━━━━━━━━━━━━━━━━\u001b[0m\u001b[37m\u001b[0m \u001b[1m1s\u001b[0m 803us/step - loss: 11.9721 - root_mean_squared_error: 3.4492\n",
      "Epoch 19/20\n",
      "\u001b[1m634/634\u001b[0m \u001b[32m━━━━━━━━━━━━━━━━━━━━\u001b[0m\u001b[37m\u001b[0m \u001b[1m0s\u001b[0m 736us/step - loss: 11.6053 - root_mean_squared_error: 3.3975\n",
      "Epoch 20/20\n",
      "\u001b[1m634/634\u001b[0m \u001b[32m━━━━━━━━━━━━━━━━━━━━\u001b[0m\u001b[37m\u001b[0m \u001b[1m1s\u001b[0m 762us/step - loss: 13.1355 - root_mean_squared_error: 3.6151\n",
      "\n",
      "SUCCESS: training experiment complete\n",
      "\n",
      "--------------------------------------------------------------------------------\n",
      "|                                  MODEL INFO                                  |\n",
      "--------------------------------------------------------------------------------\n",
      "Weight for feature[TRIP_MILES]: 2.036\n",
      "Weight for feature[TRIP_MINUTES]: 0.145\n",
      "Bias: 3.824\n",
      "\n",
      "FARE = 2.036 * TRIP_MILES + 0.145 * TRIP_MINUTES + 3.824\n",
      "\n"
     ]
    },
    {
     "data": {
      "application/vnd.plotly.v1+json": {
       "config": {
        "plotlyServerURL": "https://plot.ly"
       },
       "data": [
        {
         "hovertemplate": "TRIP_MILES=%{x}<br>TRIP_MINUTES=%{y}<br>FARE=%{z}<extra></extra>",
         "legendgroup": "",
         "marker": {
          "color": "#636efa",
          "symbol": "circle"
         },
         "mode": "markers",
         "name": "",
         "scene": "scene",
         "showlegend": false,
         "type": "scatter3d",
         "x": {
          "bdata": "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",
          "dtype": "f8"
         },
         "y": {
          "bdata": "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",
          "dtype": "f8"
         },
         "z": {
          "bdata": "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",
          "dtype": "f8"
         }
        },
        {
         "colorscale": [
          [
           0,
           "#89CFF0"
          ],
          [
           1,
           "#FFDB58"
          ]
         ],
         "scene": "scene",
         "type": "surface",
         "x": {
          "bdata": "S1RU5sW+4j9Sg798P+kiQCAw4cy+QDdA",
          "dtype": "f8"
         },
         "y": {
          "bdata": "VVVVVVVVBUDMzMzMzLxBQHd3d3d3Z1JA",
          "dtype": "f8"
         },
         "z": [
          [
           5.403704962432385,
           28.223030334164697,
           61.84976563076178
          ],
          [
           5.403704962432385,
           28.223030334164697,
           61.84976563076178
          ],
          [
           5.403704962432385,
           28.223030334164697,
           61.84976563076178
          ]
         ]
        },
        {
         "hovertemplate": "x=%{x}<br>y=%{y}<extra></extra>",
         "legendgroup": "",
         "line": {
          "color": "#ff0000",
          "dash": "solid",
          "width": 3
         },
         "marker": {
          "symbol": "circle"
         },
         "mode": "lines",
         "name": "",
         "orientation": "v",
         "showlegend": false,
         "type": "scatter",
         "x": {
          "bdata": "AAECAwQFBgcICQoLDA0ODxAREhM=",
          "dtype": "i1"
         },
         "xaxis": "x",
         "y": {
          "bdata": "AAAAQF1uQEAAAACAMl4oQAAAACAGchRAAAAAYIR5EEAAAACAH30NQAAAAMD0egxAAAAAQKsgDEAAAABghPYLQAAAAAD04wtAAAAAoFvaC0AAAABA5NULQAAAAIDu1AtAAAAAIL3TC0AAAABAG9MLQAAAAMA30wtAAAAAoArTC0AAAAAgbtMLQAAAACBt0QtAAAAAIG/UC0AAAACAPNMLQA==",
          "dtype": "f8"
         },
         "yaxis": "y"
        }
       ],
       "layout": {
        "annotations": [
         {
          "font": {
           "size": 16
          },
          "showarrow": false,
          "text": "Loss Curve",
          "x": 0.225,
          "xanchor": "center",
          "xref": "paper",
          "y": 1,
          "yanchor": "bottom",
          "yref": "paper"
         },
         {
          "font": {
           "size": 16
          },
          "showarrow": false,
          "text": "Model Plot",
          "x": 0.775,
          "xanchor": "center",
          "xref": "paper",
          "y": 1,
          "yanchor": "bottom",
          "yref": "paper"
         }
        ],
        "scene": {
         "domain": {
          "x": [
           0.55,
           1
          ],
          "y": [
           0,
           1
          ]
         },
         "xaxis": {
          "title": {
           "text": "TRIP_MILES"
          }
         },
         "yaxis": {
          "title": {
           "text": "TRIP_MINUTES"
          }
         },
         "zaxis": {
          "title": {
           "text": "FARE"
          }
         }
        },
        "template": {
         "data": {
          "bar": [
           {
            "error_x": {
             "color": "#2a3f5f"
            },
            "error_y": {
             "color": "#2a3f5f"
            },
            "marker": {
             "line": {
              "color": "#E5ECF6",
              "width": 0.5
             },
             "pattern": {
              "fillmode": "overlay",
              "size": 10,
              "solidity": 0.2
             }
            },
            "type": "bar"
           }
          ],
          "barpolar": [
           {
            "marker": {
             "line": {
              "color": "#E5ECF6",
              "width": 0.5
             },
             "pattern": {
              "fillmode": "overlay",
              "size": 10,
              "solidity": 0.2
             }
            },
            "type": "barpolar"
           }
          ],
          "carpet": [
           {
            "aaxis": {
             "endlinecolor": "#2a3f5f",
             "gridcolor": "white",
             "linecolor": "white",
             "minorgridcolor": "white",
             "startlinecolor": "#2a3f5f"
            },
            "baxis": {
             "endlinecolor": "#2a3f5f",
             "gridcolor": "white",
             "linecolor": "white",
             "minorgridcolor": "white",
             "startlinecolor": "#2a3f5f"
            },
            "type": "carpet"
           }
          ],
          "choropleth": [
           {
            "colorbar": {
             "outlinewidth": 0,
             "ticks": ""
            },
            "type": "choropleth"
           }
          ],
          "contour": [
           {
            "colorbar": {
             "outlinewidth": 0,
             "ticks": ""
            },
            "colorscale": [
             [
              0,
              "#0d0887"
             ],
             [
              0.1111111111111111,
              "#46039f"
             ],
             [
              0.2222222222222222,
              "#7201a8"
             ],
             [
              0.3333333333333333,
              "#9c179e"
             ],
             [
              0.4444444444444444,
              "#bd3786"
             ],
             [
              0.5555555555555556,
              "#d8576b"
             ],
             [
              0.6666666666666666,
              "#ed7953"
             ],
             [
              0.7777777777777778,
              "#fb9f3a"
             ],
             [
              0.8888888888888888,
              "#fdca26"
             ],
             [
              1,
              "#f0f921"
             ]
            ],
            "type": "contour"
           }
          ],
          "contourcarpet": [
           {
            "colorbar": {
             "outlinewidth": 0,
             "ticks": ""
            },
            "type": "contourcarpet"
           }
          ],
          "heatmap": [
           {
            "colorbar": {
             "outlinewidth": 0,
             "ticks": ""
            },
            "colorscale": [
             [
              0,
              "#0d0887"
             ],
             [
              0.1111111111111111,
              "#46039f"
             ],
             [
              0.2222222222222222,
              "#7201a8"
             ],
             [
              0.3333333333333333,
              "#9c179e"
             ],
             [
              0.4444444444444444,
              "#bd3786"
             ],
             [
              0.5555555555555556,
              "#d8576b"
             ],
             [
              0.6666666666666666,
              "#ed7953"
             ],
             [
              0.7777777777777778,
              "#fb9f3a"
             ],
             [
              0.8888888888888888,
              "#fdca26"
             ],
             [
              1,
              "#f0f921"
             ]
            ],
            "type": "heatmap"
           }
          ],
          "histogram": [
           {
            "marker": {
             "pattern": {
              "fillmode": "overlay",
              "size": 10,
              "solidity": 0.2
             }
            },
            "type": "histogram"
           }
          ],
          "histogram2d": [
           {
            "colorbar": {
             "outlinewidth": 0,
             "ticks": ""
            },
            "colorscale": [
             [
              0,
              "#0d0887"
             ],
             [
              0.1111111111111111,
              "#46039f"
             ],
             [
              0.2222222222222222,
              "#7201a8"
             ],
             [
              0.3333333333333333,
              "#9c179e"
             ],
             [
              0.4444444444444444,
              "#bd3786"
             ],
             [
              0.5555555555555556,
              "#d8576b"
             ],
             [
              0.6666666666666666,
              "#ed7953"
             ],
             [
              0.7777777777777778,
              "#fb9f3a"
             ],
             [
              0.8888888888888888,
              "#fdca26"
             ],
             [
              1,
              "#f0f921"
             ]
            ],
            "type": "histogram2d"
           }
          ],
          "histogram2dcontour": [
           {
            "colorbar": {
             "outlinewidth": 0,
             "ticks": ""
            },
            "colorscale": [
             [
              0,
              "#0d0887"
             ],
             [
              0.1111111111111111,
              "#46039f"
             ],
             [
              0.2222222222222222,
              "#7201a8"
             ],
             [
              0.3333333333333333,
              "#9c179e"
             ],
             [
              0.4444444444444444,
              "#bd3786"
             ],
             [
              0.5555555555555556,
              "#d8576b"
             ],
             [
              0.6666666666666666,
              "#ed7953"
             ],
             [
              0.7777777777777778,
              "#fb9f3a"
             ],
             [
              0.8888888888888888,
              "#fdca26"
             ],
             [
              1,
              "#f0f921"
             ]
            ],
            "type": "histogram2dcontour"
           }
          ],
          "mesh3d": [
           {
            "colorbar": {
             "outlinewidth": 0,
             "ticks": ""
            },
            "type": "mesh3d"
           }
          ],
          "parcoords": [
           {
            "line": {
             "colorbar": {
              "outlinewidth": 0,
              "ticks": ""
             }
            },
            "type": "parcoords"
           }
          ],
          "pie": [
           {
            "automargin": true,
            "type": "pie"
           }
          ],
          "scatter": [
           {
            "fillpattern": {
             "fillmode": "overlay",
             "size": 10,
             "solidity": 0.2
            },
            "type": "scatter"
           }
          ],
          "scatter3d": [
           {
            "line": {
             "colorbar": {
              "outlinewidth": 0,
              "ticks": ""
             }
            },
            "marker": {
             "colorbar": {
              "outlinewidth": 0,
              "ticks": ""
             }
            },
            "type": "scatter3d"
           }
          ],
          "scattercarpet": [
           {
            "marker": {
             "colorbar": {
              "outlinewidth": 0,
              "ticks": ""
             }
            },
            "type": "scattercarpet"
           }
          ],
          "scattergeo": [
           {
            "marker": {
             "colorbar": {
              "outlinewidth": 0,
              "ticks": ""
             }
            },
            "type": "scattergeo"
           }
          ],
          "scattergl": [
           {
            "marker": {
             "colorbar": {
              "outlinewidth": 0,
              "ticks": ""
             }
            },
            "type": "scattergl"
           }
          ],
          "scattermap": [
           {
            "marker": {
             "colorbar": {
              "outlinewidth": 0,
              "ticks": ""
             }
            },
            "type": "scattermap"
           }
          ],
          "scattermapbox": [
           {
            "marker": {
             "colorbar": {
              "outlinewidth": 0,
              "ticks": ""
             }
            },
            "type": "scattermapbox"
           }
          ],
          "scatterpolar": [
           {
            "marker": {
             "colorbar": {
              "outlinewidth": 0,
              "ticks": ""
             }
            },
            "type": "scatterpolar"
           }
          ],
          "scatterpolargl": [
           {
            "marker": {
             "colorbar": {
              "outlinewidth": 0,
              "ticks": ""
             }
            },
            "type": "scatterpolargl"
           }
          ],
          "scatterternary": [
           {
            "marker": {
             "colorbar": {
              "outlinewidth": 0,
              "ticks": ""
             }
            },
            "type": "scatterternary"
           }
          ],
          "surface": [
           {
            "colorbar": {
             "outlinewidth": 0,
             "ticks": ""
            },
            "colorscale": [
             [
              0,
              "#0d0887"
             ],
             [
              0.1111111111111111,
              "#46039f"
             ],
             [
              0.2222222222222222,
              "#7201a8"
             ],
             [
              0.3333333333333333,
              "#9c179e"
             ],
             [
              0.4444444444444444,
              "#bd3786"
             ],
             [
              0.5555555555555556,
              "#d8576b"
             ],
             [
              0.6666666666666666,
              "#ed7953"
             ],
             [
              0.7777777777777778,
              "#fb9f3a"
             ],
             [
              0.8888888888888888,
              "#fdca26"
             ],
             [
              1,
              "#f0f921"
             ]
            ],
            "type": "surface"
           }
          ],
          "table": [
           {
            "cells": {
             "fill": {
              "color": "#EBF0F8"
             },
             "line": {
              "color": "white"
             }
            },
            "header": {
             "fill": {
              "color": "#C8D4E3"
             },
             "line": {
              "color": "white"
             }
            },
            "type": "table"
           }
          ]
         },
         "layout": {
          "annotationdefaults": {
           "arrowcolor": "#2a3f5f",
           "arrowhead": 0,
           "arrowwidth": 1
          },
          "autotypenumbers": "strict",
          "coloraxis": {
           "colorbar": {
            "outlinewidth": 0,
            "ticks": ""
           }
          },
          "colorscale": {
           "diverging": [
            [
             0,
             "#8e0152"
            ],
            [
             0.1,
             "#c51b7d"
            ],
            [
             0.2,
             "#de77ae"
            ],
            [
             0.3,
             "#f1b6da"
            ],
            [
             0.4,
             "#fde0ef"
            ],
            [
             0.5,
             "#f7f7f7"
            ],
            [
             0.6,
             "#e6f5d0"
            ],
            [
             0.7,
             "#b8e186"
            ],
            [
             0.8,
             "#7fbc41"
            ],
            [
             0.9,
             "#4d9221"
            ],
            [
             1,
             "#276419"
            ]
           ],
           "sequential": [
            [
             0,
             "#0d0887"
            ],
            [
             0.1111111111111111,
             "#46039f"
            ],
            [
             0.2222222222222222,
             "#7201a8"
            ],
            [
             0.3333333333333333,
             "#9c179e"
            ],
            [
             0.4444444444444444,
             "#bd3786"
            ],
            [
             0.5555555555555556,
             "#d8576b"
            ],
            [
             0.6666666666666666,
             "#ed7953"
            ],
            [
             0.7777777777777778,
             "#fb9f3a"
            ],
            [
             0.8888888888888888,
             "#fdca26"
            ],
            [
             1,
             "#f0f921"
            ]
           ],
           "sequentialminus": [
            [
             0,
             "#0d0887"
            ],
            [
             0.1111111111111111,
             "#46039f"
            ],
            [
             0.2222222222222222,
             "#7201a8"
            ],
            [
             0.3333333333333333,
             "#9c179e"
            ],
            [
             0.4444444444444444,
             "#bd3786"
            ],
            [
             0.5555555555555556,
             "#d8576b"
            ],
            [
             0.6666666666666666,
             "#ed7953"
            ],
            [
             0.7777777777777778,
             "#fb9f3a"
            ],
            [
             0.8888888888888888,
             "#fdca26"
            ],
            [
             1,
             "#f0f921"
            ]
           ]
          },
          "colorway": [
           "#636efa",
           "#EF553B",
           "#00cc96",
           "#ab63fa",
           "#FFA15A",
           "#19d3f3",
           "#FF6692",
           "#B6E880",
           "#FF97FF",
           "#FECB52"
          ],
          "font": {
           "color": "#2a3f5f"
          },
          "geo": {
           "bgcolor": "white",
           "lakecolor": "white",
           "landcolor": "#E5ECF6",
           "showlakes": true,
           "showland": true,
           "subunitcolor": "white"
          },
          "hoverlabel": {
           "align": "left"
          },
          "hovermode": "closest",
          "mapbox": {
           "style": "light"
          },
          "paper_bgcolor": "white",
          "plot_bgcolor": "#E5ECF6",
          "polar": {
           "angularaxis": {
            "gridcolor": "white",
            "linecolor": "white",
            "ticks": ""
           },
           "bgcolor": "#E5ECF6",
           "radialaxis": {
            "gridcolor": "white",
            "linecolor": "white",
            "ticks": ""
           }
          },
          "scene": {
           "xaxis": {
            "backgroundcolor": "#E5ECF6",
            "gridcolor": "white",
            "gridwidth": 2,
            "linecolor": "white",
            "showbackground": true,
            "ticks": "",
            "zerolinecolor": "white"
           },
           "yaxis": {
            "backgroundcolor": "#E5ECF6",
            "gridcolor": "white",
            "gridwidth": 2,
            "linecolor": "white",
            "showbackground": true,
            "ticks": "",
            "zerolinecolor": "white"
           },
           "zaxis": {
            "backgroundcolor": "#E5ECF6",
            "gridcolor": "white",
            "gridwidth": 2,
            "linecolor": "white",
            "showbackground": true,
            "ticks": "",
            "zerolinecolor": "white"
           }
          },
          "shapedefaults": {
           "line": {
            "color": "#2a3f5f"
           }
          },
          "ternary": {
           "aaxis": {
            "gridcolor": "white",
            "linecolor": "white",
            "ticks": ""
           },
           "baxis": {
            "gridcolor": "white",
            "linecolor": "white",
            "ticks": ""
           },
           "bgcolor": "#E5ECF6",
           "caxis": {
            "gridcolor": "white",
            "linecolor": "white",
            "ticks": ""
           }
          },
          "title": {
           "x": 0.05
          },
          "xaxis": {
           "automargin": true,
           "gridcolor": "white",
           "linecolor": "white",
           "ticks": "",
           "title": {
            "standoff": 15
           },
           "zerolinecolor": "white",
           "zerolinewidth": 2
          },
          "yaxis": {
           "automargin": true,
           "gridcolor": "white",
           "linecolor": "white",
           "ticks": "",
           "title": {
            "standoff": 15
           },
           "zerolinecolor": "white",
           "zerolinewidth": 2
          }
         }
        },
        "xaxis": {
         "anchor": "y",
         "domain": [
          0,
          0.45
         ],
         "title": {
          "text": "Epoch"
         }
        },
        "yaxis": {
         "anchor": "x",
         "domain": [
          0,
          1
         ],
         "range": [
          2.7818071365356447,
          32.862220764160156
         ],
         "title": {
          "text": "Root Mean Squared Error"
         }
        }
       }
      },
      "image/png": "[encoded data removed]"
     },
     "metadata": {},
     "output_type": "display_data"
    }
   ],
   "source": [
    "#@title Code - Experiment 3\n",
    "\n",
    "# The following variables are the hyperparameters.\n",
    "learning_rate = 0.001\n",
    "epochs = 20\n",
    "batch_size = 50\n",
    "\n",
    "training_dataSet.loc[:, 'TRIP_MINUTES'] = training_dataSet['TRIP_SECONDS']/60\n",
    "\n",
    "features = ['TRIP_MILES', 'TRIP_MINUTES']\n",
    "label = 'FARE'\n",
    "\n",
    "model_2 = run_experiment(training_dataSet, features, label, learning_rate, epochs, batch_size)"
   ]
  },
  {
   "cell_type": "code",
   "execution_count": 34,
   "id": "eb6195d1-6c81-4d9a-ad24-8215402bf340",
   "metadata": {},
   "outputs": [],
   "source": [
    "#@title Code - Define functions to make predictions\n",
    "def format_currency(x):\n",
    "  return \"${:.2f}\".format(x)\n",
    "\n",
    "def build_batch(df, batch_size):\n",
    "  batch = df.sample(n=batch_size).copy()\n",
    "  batch.set_index(np.arange(batch_size), inplace=True)\n",
    "  return batch\n",
    "\n",
    "def predict_fare(model, df, features, label, batch_size=50):\n",
    "  batch = build_batch(df, batch_size)\n",
    "  predicted_values = model.predict_on_batch(x=batch.loc[:, features].values)\n",
    "\n",
    "  data = {\"PREDICTED_FARE\": [], \"OBSERVED_FARE\": [], \"L1_LOSS\": [],\n",
    "          features[0]: [], features[1]: []}\n",
    "  for i in range(batch_size):\n",
    "    predicted = predicted_values[i][0]\n",
    "    observed = batch.at[i, label]\n",
    "    data[\"PREDICTED_FARE\"].append(format_currency(predicted))\n",
    "    data[\"OBSERVED_FARE\"].append(format_currency(observed))\n",
    "    data[\"L1_LOSS\"].append(format_currency(abs(observed - predicted)))\n",
    "    data[features[0]].append(batch.at[i, features[0]])\n",
    "    data[features[1]].append(\"{:.2f}\".format(batch.at[i, features[1]]))\n",
    "\n",
    "  output_df = pd.DataFrame(data)\n",
    "  return output_df\n",
    "\n",
    "def show_predictions(output):\n",
    "  header = \"-\" * 80\n",
    "  banner = header + \"\\n\" + \"|\" + \"PREDICTIONS\".center(78) + \"|\" + \"\\n\" + header\n",
    "  print(banner)\n",
    "  print(output)\n",
    "  return"
   ]
  },
  {
   "cell_type": "code",
   "execution_count": 36,
   "id": "a32dd860-1c2d-4a3a-b7ff-a2fffc9735db",
   "metadata": {},
   "outputs": [
    {
     "name": "stdout",
     "output_type": "stream",
     "text": [
      "--------------------------------------------------------------------------------\n",
      "|                                 PREDICTIONS                                  |\n",
      "--------------------------------------------------------------------------------\n",
      "   PREDICTED_FARE OBSERVED_FARE L1_LOSS  TRIP_MILES TRIP_MINUTES\n",
      "0          $14.49        $14.25   $0.24        4.10        16.00\n",
      "1          $48.18        $44.50   $3.68       17.75        56.65\n",
      "2          $10.39        $10.50   $0.11        2.30        13.00\n",
      "3          $63.69        $62.25   $1.44       23.94        76.65\n",
      "4          $40.35        $40.25   $0.10       16.30        23.00\n",
      "5          $12.66        $12.25   $0.41        3.18        16.27\n",
      "6           $8.79         $8.50   $0.29        1.80         9.00\n",
      "7           $8.78         $9.87   $1.09        1.80         8.92\n",
      "8          $35.98        $36.00   $0.02       13.67        29.78\n",
      "9          $10.66        $10.48   $0.18        2.61        10.48\n",
      "10          $6.95         $6.50   $0.45        1.03         7.10\n",
      "11         $45.18        $44.75   $0.43       18.08        31.28\n",
      "12         $43.07        $41.00   $2.07       16.59        37.67\n",
      "13          $8.64         $8.25   $0.39        1.60        10.72\n",
      "14          $5.93         $5.00   $0.93        0.78         3.55\n",
      "15          $9.50         $9.16   $0.34        2.20         8.22\n",
      "16         $54.07        $55.50   $1.43       22.53        30.15\n",
      "17         $10.57         $9.25   $1.32        2.50        11.42\n",
      "18         $39.33        $40.00   $0.67       14.74        37.87\n",
      "19         $11.58        $11.00   $0.58        3.03        10.95\n",
      "20          $8.13         $7.75   $0.38        1.40        10.00\n",
      "21         $14.87        $16.01   $1.14        4.41        14.25\n",
      "22         $28.43        $28.25   $0.18       10.67        19.85\n",
      "23         $36.96        $38.00   $1.04       14.25        28.40\n",
      "24         $49.32        $50.25   $0.93       19.64        37.95\n",
      "25          $8.01         $7.50   $0.51        1.54         7.22\n",
      "26         $26.48        $26.25   $0.23        9.70        20.00\n",
      "27          $8.16         $7.50   $0.66        1.70         6.00\n",
      "28         $26.61        $26.50   $0.11        9.20        27.92\n",
      "29         $50.64        $50.00   $0.64       20.50        35.00\n",
      "30          $5.83         $5.25   $0.58        0.70         4.00\n",
      "31         $10.40         $9.50   $0.90        2.80         6.00\n",
      "32         $45.16        $45.00   $0.16       18.09        31.05\n",
      "33          $8.31         $7.75   $0.56        1.67         7.48\n",
      "34          $7.22         $9.00   $1.78        1.13         7.52\n",
      "35          $5.97         $5.75   $0.22        0.70         5.00\n",
      "36         $31.35        $30.25   $1.10       10.60        41.00\n",
      "37         $42.77        $42.50   $0.27       17.04        29.32\n",
      "38         $10.34         $9.75   $0.59        2.70         7.00\n",
      "39          $8.09         $9.00   $0.91        1.43         9.33\n",
      "40         $10.10         $9.99   $0.11        2.21        12.23\n",
      "41         $49.37        $49.50   $0.13       19.77        36.50\n",
      "42          $5.99         $5.25   $0.74        0.78         3.97\n",
      "43         $45.26        $43.25   $2.01       17.01        46.85\n",
      "44         $20.31        $20.25   $0.06        7.10        14.00\n",
      "45         $48.10        $45.75   $2.35       18.28        48.60\n",
      "46         $31.94        $30.50   $1.44       11.46        32.95\n",
      "47         $11.91        $11.25   $0.66        3.00        13.67\n",
      "48         $10.55        $11.00   $0.45        2.22        15.23\n",
      "49          $6.59         $5.75   $0.84        1.00         5.00\n"
     ]
    }
   ],
   "source": [
    "#@title Code - Make predictions\n",
    "\n",
    "output = predict_fare(model_2, training_dataSet, features, label)\n",
    "show_predictions(output)"
   ]
  },
  {
   "cell_type": "code",
   "execution_count": null,
   "id": "0649d957-7428-4ed9-9930-f46d14f82e2e",
   "metadata": {},
   "outputs": [],
   "source": []
  }
 ],
 "metadata": {
  "kernelspec": {
   "display_name": "Python 3 (ipykernel)",
   "language": "python",
   "name": "python3"
  },
  "language_info": {
   "codemirror_mode": {
    "name": "ipython",
    "version": 3
   },
   "file_extension": ".py",
   "mimetype": "text/x-python",
   "name": "python",
   "nbconvert_exporter": "python",
   "pygments_lexer": "ipython3",
   "version": "3.12.6"
  }
 },
 "nbformat": 4,
 "nbformat_minor": 5
}
